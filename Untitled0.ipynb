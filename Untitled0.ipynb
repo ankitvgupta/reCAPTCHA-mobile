{
 "cells": [
  {
   "cell_type": "code",
   "execution_count": null,
   "metadata": {
    "collapsed": false
   },
   "outputs": [],
   "source": [
    "import tensorflow as tf"
   ]
  },
  {
   "cell_type": "code",
   "execution_count": null,
   "metadata": {
    "collapsed": false
   },
   "outputs": [],
   "source": [
    "saver = tf.train.Saver()\n",
    "\n",
    "# Later, launch the model, use the saver to restore variables from disk, and\n",
    "# do some work with the model.\n",
    "sess = tf.Session()\n",
    "# Restore variables from disk.\n",
    "saver.restore(sess, \"model.ckpt\")"
   ]
  },
  {
   "cell_type": "code",
   "execution_count": null,
   "metadata": {
    "collapsed": false
   },
   "outputs": [],
   "source": []
  },
  {
   "cell_type": "code",
   "execution_count": 3,
   "metadata": {
    "collapsed": false
   },
   "outputs": [
    {
     "name": "stdout",
     "output_type": "stream",
     "text": [
      "BWRcM8K3es1Ib6upka5cZLDGs-e2OiB1Ay96jnUbHA6STPccsmlz_0DB2bP6RWvk88f5vJpZcush0Gqg7tIjZPhowrVbOZRfwJ15rBMLnp-7kFLrpwyRVm5dUt3ls5Z55WQ0a0VkRuQm3cXLZ3ZiBiRNuwDxCPdsds_WAwnPmEQIprV_SEXlqScng711KSRXSQ9_A9ZN3zd5ZEWjk!NwkxUjlUlgS7eA8!-qO2N5iwSOz9Vu24NQLR9_LBVXUa8d__IR-JJm56zvfa19sBfJ1_uWFd-WpjojM!xomDsMgagC2MiF1KQf7k4kKYhZST1PpbTaNEype9mo5_pblZ5DjIocPRyKDLxF0U05!LuvGcATK0K6bUqwkPczGrxnKf3u5FL2-mS7jRJiqtxLnWtnrmhZZIHEpB2TwQuP\n"
     ]
    }
   ],
   "source": [
    "import requests\n",
    "\n",
    "with open(\"captcha-server/test.txt\") as f:\n",
    "    lines = f.read()\n",
    "    \n",
    "d = {\"siteID\": \"imt-uibLZEARZ3Ym_bTrKLL-m3GJIqOv5QaUDlv3\", \"data\": lines}\n",
    "print requests.post('http://localhost:5000/token', d).content"
   ]
  }
 ],
 "metadata": {
  "kernelspec": {
   "display_name": "Python 2",
   "language": "python",
   "name": "python2"
  },
  "language_info": {
   "codemirror_mode": {
    "name": "ipython",
    "version": 2
   },
   "file_extension": ".py",
   "mimetype": "text/x-python",
   "name": "python",
   "nbconvert_exporter": "python",
   "pygments_lexer": "ipython2",
   "version": "2.7.10"
  }
 },
 "nbformat": 4,
 "nbformat_minor": 0
}
