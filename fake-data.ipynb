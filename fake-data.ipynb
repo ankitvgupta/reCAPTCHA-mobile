{
 "cells": [
  {
   "cell_type": "code",
   "execution_count": 1,
   "metadata": {
    "collapsed": true
   },
   "outputs": [],
   "source": [
    "import numpy as np\n",
    "from scipy.stats import norm, signaltonoise\n",
    "from hmmlearn import hmm"
   ]
  },
  {
   "cell_type": "markdown",
   "metadata": {},
   "source": [
    "## Import the data"
   ]
  },
  {
   "cell_type": "code",
   "execution_count": 2,
   "metadata": {
    "collapsed": false
   },
   "outputs": [],
   "source": [
    "data = np.load(\"gmail/clean_data.npy\")"
   ]
  },
  {
   "cell_type": "markdown",
   "metadata": {},
   "source": [
    "## Parameters"
   ]
  },
  {
   "cell_type": "code",
   "execution_count": 3,
   "metadata": {
    "collapsed": true
   },
   "outputs": [],
   "source": [
    "num_steps = 0\n",
    "num_diffs = 0\n",
    "num_gaussian = 0\n",
    "num_unif = 0\n",
    "num_hmm = 1000\n",
    "\n",
    "save_file = 'more_hmm.npy'"
   ]
  },
  {
   "cell_type": "markdown",
   "metadata": {},
   "source": [
    "## Calculate summary stats in human data"
   ]
  },
  {
   "cell_type": "code",
   "execution_count": 4,
   "metadata": {
    "collapsed": false
   },
   "outputs": [
    {
     "name": "stdout",
     "output_type": "stream",
     "text": [
      "[   3.83188094   14.82577596   20.46925214  351.85945174  376.15781886\n",
      "  353.2787744 ]\n"
     ]
    }
   ],
   "source": [
    "# Stats for all 6 coordinates in each time step in all of the data\n",
    "step_mins = np.min(data, axis=0)\n",
    "step_maxs = np.max(data, axis=0)\n",
    "step_means = np.mean(data, axis=0)\n",
    "step_vars = np.var(data, axis=0)\n",
    "step_snr = np.abs(signaltonoise(data, axis=0))\n",
    "\n",
    "print np.mean(step_vars,axis=0)\n",
    "\n",
    "# Stats \n",
    "diffs = data[:,:-1] - data[:,1:]\n",
    "diff_means = np.mean(diffs, axis=0)\n",
    "diff_vars = np.var(diffs, axis=0)"
   ]
  },
  {
   "cell_type": "markdown",
   "metadata": {},
   "source": [
    "## Train HMM"
   ]
  },
  {
   "cell_type": "code",
   "execution_count": 5,
   "metadata": {
    "collapsed": true
   },
   "outputs": [],
   "source": [
    "import warnings\n",
    "warnings.filterwarnings(\"ignore\", category=DeprecationWarning)\n",
    "\n",
    "lengths = [260 for i in range(data.shape[0])]\n",
    "X = np.concatenate(data, axis=0)\n",
    "model = hmm.GaussianHMM(n_components=5).fit(X, lengths)"
   ]
  },
  {
   "cell_type": "markdown",
   "metadata": {},
   "source": [
    "## Data generation functions"
   ]
  },
  {
   "cell_type": "code",
   "execution_count": 6,
   "metadata": {
    "collapsed": false
   },
   "outputs": [],
   "source": [
    "def sample_steps(n):\n",
    "    mean_var = np.dstack((step_means, step_vars))\n",
    "    return np.array([map(lambda x: [np.random.normal(mv[0], mv[1]) for mv in x], mean_var) for _ in range(n)])\n",
    "\n",
    "def sample_diffs(n):\n",
    "    step_mean_var = np.dstack((step_means[0], step_vars[0])) \n",
    "    \n",
    "    samples = np.array([]).reshape(0,260,6)\n",
    "    for i in range(n):\n",
    "        start = np.array(map(lambda x: [np.random.normal(mv[0], mv[1]) for mv in x], step_mean_var))\n",
    "    \n",
    "        diff_mean_var = np.dstack((diff_means, diff_vars))\n",
    "        diffs = np.array(map(lambda x: [np.random.normal(mv[0], mv[1]) for mv in x], diff_mean_var))\n",
    "    \n",
    "        for j in range(diffs.shape[0]):\n",
    "            start = np.append(start, [start[j] + diffs[j]], axis=0)\n",
    "\n",
    "        samples = np.append(samples, [start], axis=0)\n",
    "    \n",
    "    return samples\n",
    "    \n",
    "def gaussian_noise(n):\n",
    "    idx = np.random.randint(data.shape[0], size=n)\n",
    "    samples = data[idx]\n",
    "\n",
    "    return np.array([samples[i] + map(lambda x: [np.random.normal(0.0, snr) for snr in x], step_snr) for i in range(n)])\n",
    "    \n",
    "def unif_noise(n):\n",
    "    min_max = np.dstack((step_mins, step_maxs))\n",
    "    return np.array([map(lambda x: [np.random.normal(mm[0], mm[1]) for mm in x], min_max) for _ in range(n)])\n",
    "\n",
    "def hmm(n):    \n",
    "    output = np.array([]).reshape(0,260,6)\n",
    "    for i in range(n):\n",
    "        X, _ = model.sample(260)\n",
    "        output = np.append(output, [X], axis=0)\n",
    "    return output"
   ]
  },
  {
   "cell_type": "markdown",
   "metadata": {},
   "source": [
    "## Generate data"
   ]
  },
  {
   "cell_type": "code",
   "execution_count": 7,
   "metadata": {
    "collapsed": false
   },
   "outputs": [
    {
     "name": "stdout",
     "output_type": "stream",
     "text": [
      "(1000, 260, 6)\n"
     ]
    }
   ],
   "source": [
    "output = np.array([]).reshape(0,260,6)\n",
    "\n",
    "counts = [num_steps, num_diffs, num_gaussian, num_unif, num_hmm]\n",
    "functions = [sample_steps, sample_diffs, gaussian_noise, unif_noise, hmm]\n",
    "\n",
    "for i, fun in enumerate(functions):\n",
    "    if (counts[i]) > 0:\n",
    "        output = np.append(output, apply(fun, [counts[i]]), axis=0)\n",
    "\n",
    "print output.shape\n",
    "np.save(save_file, output)"
   ]
  }
 ],
 "metadata": {
  "kernelspec": {
   "display_name": "Python 2",
   "language": "python",
   "name": "python2"
  },
  "language_info": {
   "codemirror_mode": {
    "name": "ipython",
    "version": 2
   },
   "file_extension": ".py",
   "mimetype": "text/x-python",
   "name": "python",
   "nbconvert_exporter": "python",
   "pygments_lexer": "ipython2",
   "version": "2.7.10"
  }
 },
 "nbformat": 4,
 "nbformat_minor": 1
}
