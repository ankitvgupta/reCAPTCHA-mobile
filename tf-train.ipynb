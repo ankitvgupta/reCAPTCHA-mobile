{
 "metadata": {
  "name": "",
  "signature": "sha256:4af42cc50f8fbd82e8b225d7503893717fa9aa4616f5d5dc389e1d9eb8e772d9"
 },
 "nbformat": 3,
 "nbformat_minor": 0,
 "worksheets": [
  {
   "cells": [
    {
     "cell_type": "code",
     "collapsed": false,
     "input": [
      "import numpy as np\n",
      "import tensorflow as tf\n",
      "from tensorflow.python.ops import rnn, rnn_cell"
     ],
     "language": "python",
     "metadata": {},
     "outputs": [],
     "prompt_number": 1
    },
    {
     "cell_type": "code",
     "collapsed": false,
     "input": [
      "x1 = np.random.randn(10, 5)\n",
      "y1 = np.random.randn(10)"
     ],
     "language": "python",
     "metadata": {},
     "outputs": [],
     "prompt_number": 2
    },
    {
     "cell_type": "code",
     "collapsed": false,
     "input": [],
     "language": "python",
     "metadata": {},
     "outputs": [],
     "prompt_number": 2
    },
    {
     "cell_type": "code",
     "collapsed": false,
     "input": [
      "def minibatcher(data_x, data_y, batch_size, num_repeats):\n",
      "    assert(data_x.shape[0])\n",
      "    data_size = data_x.shape[0]\n",
      "    for _ in range(num_repeats):\n",
      "        start = 0\n",
      "        while start < data_size:\n",
      "            yield data_x[start:start + batch_size], data_y[start:start + batch_size]\n",
      "            start += batch_size\n",
      "    "
     ],
     "language": "python",
     "metadata": {},
     "outputs": [],
     "prompt_number": 3
    },
    {
     "cell_type": "code",
     "collapsed": false,
     "input": [],
     "language": "python",
     "metadata": {},
     "outputs": [],
     "prompt_number": 3
    },
    {
     "cell_type": "code",
     "collapsed": false,
     "input": [
      "# Import MINST data\n",
      "#from tensorflow.examples.tutorials.mnist import input_data\n",
      "#mnist = input_data.read_data_sets(\"/tmp/data/\", one_hot=True)"
     ],
     "language": "python",
     "metadata": {},
     "outputs": [],
     "prompt_number": 4
    },
    {
     "cell_type": "code",
     "collapsed": false,
     "input": [
      "n_samples = 100\n",
      "n_steps = 280\n",
      "n_input = 6\n",
      "n_hidden = 100\n",
      "n_classes = 2\n",
      "batch_size = 8\n",
      "learning_rate = 0.001\n"
     ],
     "language": "python",
     "metadata": {},
     "outputs": [],
     "prompt_number": 5
    },
    {
     "cell_type": "code",
     "collapsed": false,
     "input": [],
     "language": "python",
     "metadata": {},
     "outputs": [],
     "prompt_number": 5
    },
    {
     "cell_type": "code",
     "collapsed": false,
     "input": [
      "# create some dummy data\n",
      "input_motion_data = np.random.randn(n_samples, n_steps, n_input)\n",
      "output_classes = np.zeros((n_samples, 2))\n",
      "for i in range(n_samples):\n",
      "    output_classes[i, np.random.randint(2)] = 1"
     ],
     "language": "python",
     "metadata": {},
     "outputs": [],
     "prompt_number": 6
    },
    {
     "cell_type": "code",
     "collapsed": false,
     "input": [
      "x = tf.placeholder(\"float\", [None, n_steps, n_input])\n",
      "y = tf.placeholder(\"float\", [None, n_classes])\n",
      "# Define weights\n",
      "weights = {\n",
      "    'out': tf.Variable(tf.random_normal([n_hidden, n_classes]))\n",
      "}\n",
      "biases = {\n",
      "    'out': tf.Variable(tf.random_normal([n_classes]))\n",
      "}"
     ],
     "language": "python",
     "metadata": {},
     "outputs": [],
     "prompt_number": 7
    },
    {
     "cell_type": "code",
     "collapsed": false,
     "input": [],
     "language": "python",
     "metadata": {},
     "outputs": [],
     "prompt_number": 7
    },
    {
     "cell_type": "code",
     "collapsed": false,
     "input": [
      "def RNN(x, weights, biases):\n",
      "\n",
      "    # Prepare data shape to match `rnn` function requirements\n",
      "    # Current data input shape: (batch_size, n_steps, n_input)\n",
      "    # Required shape: 'n_steps' tensors list of shape (batch_size, n_input)\n",
      "    \n",
      "    # Permuting batch_size and n_steps\n",
      "    x = tf.transpose(x, [1, 0, 2])\n",
      "    # Reshaping to (n_steps*batch_size, n_input)\n",
      "    x = tf.reshape(x, [-1, n_input])\n",
      "    # Split to get a list of 'n_steps' tensors of shape (batch_size, n_input)\n",
      "    x = tf.split(0, n_steps, x)\n",
      "\n",
      "    # Define a lstm cell with tensorflow\n",
      "    lstm_cell = rnn_cell.BasicLSTMCell(n_hidden, forget_bias=1.0)\n",
      "\n",
      "    # Get lstm cell output\n",
      "    outputs, states = rnn.rnn(lstm_cell, x, dtype=tf.float32)\n",
      "\n",
      "    # Linear activation, using rnn inner loop last output\n",
      "    return tf.matmul(outputs[-1], weights['out']) + biases['out']\n"
     ],
     "language": "python",
     "metadata": {},
     "outputs": [],
     "prompt_number": 8
    },
    {
     "cell_type": "code",
     "collapsed": false,
     "input": [
      "pred = RNN(x, weights, biases)\n",
      "\n",
      "cost = tf.reduce_mean(tf.nn.softmax_cross_entropy_with_logits(pred, y))\n",
      "optimizer = tf.train.AdamOptimizer(learning_rate=learning_rate).minimize(cost)\n",
      "\n",
      "# Evaluate model\n",
      "correct_pred = tf.equal(tf.argmax(pred,1), tf.argmax(y,1))\n",
      "accuracy = tf.reduce_mean(tf.cast(correct_pred, tf.float32))"
     ],
     "language": "python",
     "metadata": {},
     "outputs": [],
     "prompt_number": 9
    },
    {
     "cell_type": "code",
     "collapsed": false,
     "input": [],
     "language": "python",
     "metadata": {},
     "outputs": [],
     "prompt_number": 9
    },
    {
     "cell_type": "code",
     "collapsed": false,
     "input": [
      "with tf.Session() as sess:\n",
      "    sess.run(tf.initialize_all_variables())\n",
      "    \n",
      "    for (rep, (batch_x, batch_y)) in enumerate(minibatcher(input_motion_data,output_classes,10, 50)):\n",
      "        sess.run(optimizer, feed_dict={x: batch_x, y: batch_y})\n",
      "        if rep % 5 == 0:\n",
      "            # Calculate batch accuracy\n",
      "            acc = sess.run(accuracy, feed_dict={x: batch_x, y: batch_y})\n",
      "            # Calculate batch loss\n",
      "            loss = sess.run(cost, feed_dict={x: batch_x, y: batch_y})\n",
      "            print \"Batch \" + str(rep) + \", Minibatch Loss= \" + \\\n",
      "                  \"{:.6f}\".format(loss) + \", Training Accuracy= \" + \\\n",
      "                  \"{:.5f}\".format(acc)\n"
     ],
     "language": "python",
     "metadata": {},
     "outputs": [
      {
       "output_type": "stream",
       "stream": "stdout",
       "text": [
        "Batch 0, Minibatch Loss= 0.508733, Training Accuracy= 0.70000\n",
        "Batch 5, Minibatch Loss= 1.293877, Training Accuracy= 0.50000"
       ]
      },
      {
       "output_type": "stream",
       "stream": "stdout",
       "text": [
        "\n",
        "Batch 10, Minibatch Loss= 0.304826, Training Accuracy= 0.90000"
       ]
      },
      {
       "output_type": "stream",
       "stream": "stdout",
       "text": [
        "\n",
        "Batch 15, Minibatch Loss= 0.996833, Training Accuracy= 0.30000"
       ]
      },
      {
       "output_type": "stream",
       "stream": "stdout",
       "text": [
        "\n",
        "Batch 20, Minibatch Loss= 0.291538, Training Accuracy= 0.90000"
       ]
      },
      {
       "output_type": "stream",
       "stream": "stdout",
       "text": [
        "\n",
        "Batch 25, Minibatch Loss= 0.772173, Training Accuracy= 0.40000"
       ]
      },
      {
       "output_type": "stream",
       "stream": "stdout",
       "text": [
        "\n",
        "Batch 30, Minibatch Loss= 0.269717, Training Accuracy= 0.90000"
       ]
      },
      {
       "output_type": "stream",
       "stream": "stdout",
       "text": [
        "\n",
        "Batch 35, Minibatch Loss= 0.652478, Training Accuracy= 0.50000"
       ]
      },
      {
       "output_type": "stream",
       "stream": "stdout",
       "text": [
        "\n",
        "Batch 40, Minibatch Loss= 0.226702, Training Accuracy= 1.00000"
       ]
      },
      {
       "output_type": "stream",
       "stream": "stdout",
       "text": [
        "\n",
        "Batch 45, Minibatch Loss= 0.517327, Training Accuracy= 0.80000"
       ]
      },
      {
       "output_type": "stream",
       "stream": "stdout",
       "text": [
        "\n",
        "Batch 50, Minibatch Loss= 0.186509, Training Accuracy= 1.00000"
       ]
      },
      {
       "output_type": "stream",
       "stream": "stdout",
       "text": [
        "\n",
        "Batch 55, Minibatch Loss= 0.405241, Training Accuracy= 0.90000"
       ]
      },
      {
       "output_type": "stream",
       "stream": "stdout",
       "text": [
        "\n",
        "Batch 60, Minibatch Loss= 0.158129, Training Accuracy= 1.00000"
       ]
      },
      {
       "output_type": "stream",
       "stream": "stdout",
       "text": [
        "\n",
        "Batch 65, Minibatch Loss= 0.289496, Training Accuracy= 1.00000"
       ]
      },
      {
       "output_type": "stream",
       "stream": "stdout",
       "text": [
        "\n",
        "Batch 70, Minibatch Loss= 0.122625, Training Accuracy= 1.00000"
       ]
      },
      {
       "output_type": "stream",
       "stream": "stdout",
       "text": [
        "\n",
        "Batch 75, Minibatch Loss= 0.183257, Training Accuracy= 1.00000"
       ]
      },
      {
       "output_type": "stream",
       "stream": "stdout",
       "text": [
        "\n",
        "Batch 80, Minibatch Loss= 0.081438, Training Accuracy= 1.00000"
       ]
      },
      {
       "output_type": "stream",
       "stream": "stdout",
       "text": [
        "\n",
        "Batch 85, Minibatch Loss= 0.092030, Training Accuracy= 1.00000"
       ]
      },
      {
       "output_type": "stream",
       "stream": "stdout",
       "text": [
        "\n",
        "Batch 90, Minibatch Loss= 0.042890, Training Accuracy= 1.00000"
       ]
      },
      {
       "output_type": "stream",
       "stream": "stdout",
       "text": [
        "\n",
        "Batch 95, Minibatch Loss= 0.034405, Training Accuracy= 1.00000"
       ]
      },
      {
       "output_type": "stream",
       "stream": "stdout",
       "text": [
        "\n",
        "Batch 100, Minibatch Loss= 0.022599, Training Accuracy= 1.00000"
       ]
      },
      {
       "output_type": "stream",
       "stream": "stdout",
       "text": [
        "\n",
        "Batch 105, Minibatch Loss= 0.030390, Training Accuracy= 1.00000"
       ]
      },
      {
       "output_type": "stream",
       "stream": "stdout",
       "text": [
        "\n",
        "Batch 110, Minibatch Loss= 0.113053, Training Accuracy= 1.00000"
       ]
      },
      {
       "output_type": "stream",
       "stream": "stdout",
       "text": [
        "\n",
        "Batch 115, Minibatch Loss= 0.134538, Training Accuracy= 1.00000"
       ]
      },
      {
       "output_type": "stream",
       "stream": "stdout",
       "text": [
        "\n",
        "Batch 120, Minibatch Loss= 0.041660, Training Accuracy= 1.00000"
       ]
      },
      {
       "output_type": "stream",
       "stream": "stdout",
       "text": [
        "\n",
        "Batch 125, Minibatch Loss= 0.046522, Training Accuracy= 1.00000"
       ]
      },
      {
       "output_type": "stream",
       "stream": "stdout",
       "text": [
        "\n",
        "Batch 130, Minibatch Loss= 0.032495, Training Accuracy= 1.00000"
       ]
      },
      {
       "output_type": "stream",
       "stream": "stdout",
       "text": [
        "\n",
        "Batch 135, Minibatch Loss= 0.035967, Training Accuracy= 1.00000"
       ]
      },
      {
       "output_type": "stream",
       "stream": "stdout",
       "text": [
        "\n",
        "Batch 140, Minibatch Loss= 0.024978, Training Accuracy= 1.00000"
       ]
      },
      {
       "output_type": "stream",
       "stream": "stdout",
       "text": [
        "\n",
        "Batch 145, Minibatch Loss= 0.018884, Training Accuracy= 1.00000"
       ]
      },
      {
       "output_type": "stream",
       "stream": "stdout",
       "text": [
        "\n",
        "Batch 150, Minibatch Loss= 0.015160, Training Accuracy= 1.00000"
       ]
      },
      {
       "output_type": "stream",
       "stream": "stdout",
       "text": [
        "\n",
        "Batch 155, Minibatch Loss= 0.013344, Training Accuracy= 1.00000"
       ]
      },
      {
       "output_type": "stream",
       "stream": "stdout",
       "text": [
        "\n",
        "Batch 160, Minibatch Loss= 0.015423, Training Accuracy= 1.00000"
       ]
      },
      {
       "output_type": "stream",
       "stream": "stdout",
       "text": [
        "\n",
        "Batch 165, Minibatch Loss= 0.007765, Training Accuracy= 1.00000"
       ]
      },
      {
       "output_type": "stream",
       "stream": "stdout",
       "text": [
        "\n",
        "Batch 170, Minibatch Loss= 0.005751, Training Accuracy= 1.00000"
       ]
      },
      {
       "output_type": "stream",
       "stream": "stdout",
       "text": [
        "\n",
        "Batch 175, Minibatch Loss= 0.005000, Training Accuracy= 1.00000"
       ]
      },
      {
       "output_type": "stream",
       "stream": "stdout",
       "text": [
        "\n",
        "Batch 180, Minibatch Loss= 0.003713, Training Accuracy= 1.00000"
       ]
      },
      {
       "output_type": "stream",
       "stream": "stdout",
       "text": [
        "\n",
        "Batch 185, Minibatch Loss= 0.003419, Training Accuracy= 1.00000"
       ]
      },
      {
       "output_type": "stream",
       "stream": "stdout",
       "text": [
        "\n",
        "Batch 190, Minibatch Loss= 0.002698, Training Accuracy= 1.00000"
       ]
      },
      {
       "output_type": "stream",
       "stream": "stdout",
       "text": [
        "\n",
        "Batch 195, Minibatch Loss= 0.002735, Training Accuracy= 1.00000"
       ]
      },
      {
       "output_type": "stream",
       "stream": "stdout",
       "text": [
        "\n",
        "Batch 200, Minibatch Loss= 0.002070, Training Accuracy= 1.00000"
       ]
      },
      {
       "output_type": "stream",
       "stream": "stdout",
       "text": [
        "\n",
        "Batch 205, Minibatch Loss= 0.002236, Training Accuracy= 1.00000"
       ]
      },
      {
       "output_type": "stream",
       "stream": "stdout",
       "text": [
        "\n",
        "Batch 210, Minibatch Loss= 0.001607, Training Accuracy= 1.00000"
       ]
      },
      {
       "output_type": "stream",
       "stream": "stdout",
       "text": [
        "\n",
        "Batch 215, Minibatch Loss= 0.001838, Training Accuracy= 1.00000"
       ]
      },
      {
       "output_type": "stream",
       "stream": "stdout",
       "text": [
        "\n",
        "Batch 220, Minibatch Loss= 0.001285, Training Accuracy= 1.00000"
       ]
      },
      {
       "output_type": "stream",
       "stream": "stdout",
       "text": [
        "\n",
        "Batch 225, Minibatch Loss= 0.001573, Training Accuracy= 1.00000"
       ]
      },
      {
       "output_type": "stream",
       "stream": "stdout",
       "text": [
        "\n",
        "Batch 230, Minibatch Loss= 0.001083, Training Accuracy= 1.00000"
       ]
      },
      {
       "output_type": "stream",
       "stream": "stdout",
       "text": [
        "\n",
        "Batch 235, Minibatch Loss= 0.001397, Training Accuracy= 1.00000"
       ]
      },
      {
       "output_type": "stream",
       "stream": "stdout",
       "text": [
        "\n",
        "Batch 240, Minibatch Loss= 0.000942, Training Accuracy= 1.00000"
       ]
      },
      {
       "output_type": "stream",
       "stream": "stdout",
       "text": [
        "\n",
        "Batch 245, Minibatch Loss= 0.001269, Training Accuracy= 1.00000"
       ]
      },
      {
       "output_type": "stream",
       "stream": "stdout",
       "text": [
        "\n",
        "Batch 250, Minibatch Loss= 0.000836, Training Accuracy= 1.00000"
       ]
      },
      {
       "output_type": "stream",
       "stream": "stdout",
       "text": [
        "\n",
        "Batch 255, Minibatch Loss= 0.001167, Training Accuracy= 1.00000"
       ]
      },
      {
       "output_type": "stream",
       "stream": "stdout",
       "text": [
        "\n",
        "Batch 260, Minibatch Loss= 0.000752, Training Accuracy= 1.00000"
       ]
      },
      {
       "output_type": "stream",
       "stream": "stdout",
       "text": [
        "\n",
        "Batch 265, Minibatch Loss= 0.001078, Training Accuracy= 1.00000"
       ]
      },
      {
       "output_type": "stream",
       "stream": "stdout",
       "text": [
        "\n",
        "Batch 270, Minibatch Loss= 0.000684, Training Accuracy= 1.00000"
       ]
      },
      {
       "output_type": "stream",
       "stream": "stdout",
       "text": [
        "\n",
        "Batch 275, Minibatch Loss= 0.000998, Training Accuracy= 1.00000"
       ]
      },
      {
       "output_type": "stream",
       "stream": "stdout",
       "text": [
        "\n",
        "Batch 280, Minibatch Loss= 0.000627, Training Accuracy= 1.00000"
       ]
      },
      {
       "output_type": "stream",
       "stream": "stdout",
       "text": [
        "\n",
        "Batch 285, Minibatch Loss= 0.000927, Training Accuracy= 1.00000"
       ]
      },
      {
       "output_type": "stream",
       "stream": "stdout",
       "text": [
        "\n",
        "Batch 290, Minibatch Loss= 0.000578, Training Accuracy= 1.00000"
       ]
      },
      {
       "output_type": "stream",
       "stream": "stdout",
       "text": [
        "\n",
        "Batch 295, Minibatch Loss= 0.000864, Training Accuracy= 1.00000"
       ]
      },
      {
       "output_type": "stream",
       "stream": "stdout",
       "text": [
        "\n",
        "Batch 300, Minibatch Loss= 0.000535, Training Accuracy= 1.00000"
       ]
      },
      {
       "output_type": "stream",
       "stream": "stdout",
       "text": [
        "\n",
        "Batch 305, Minibatch Loss= 0.000807, Training Accuracy= 1.00000"
       ]
      },
      {
       "output_type": "stream",
       "stream": "stdout",
       "text": [
        "\n",
        "Batch 310, Minibatch Loss= 0.000496, Training Accuracy= 1.00000"
       ]
      },
      {
       "output_type": "stream",
       "stream": "stdout",
       "text": [
        "\n",
        "Batch 315, Minibatch Loss= 0.000756, Training Accuracy= 1.00000"
       ]
      },
      {
       "output_type": "stream",
       "stream": "stdout",
       "text": [
        "\n",
        "Batch 320, Minibatch Loss= 0.000462, Training Accuracy= 1.00000"
       ]
      },
      {
       "output_type": "stream",
       "stream": "stdout",
       "text": [
        "\n",
        "Batch 325, Minibatch Loss= 0.000710, Training Accuracy= 1.00000"
       ]
      },
      {
       "output_type": "stream",
       "stream": "stdout",
       "text": [
        "\n",
        "Batch 330, Minibatch Loss= 0.000431, Training Accuracy= 1.00000"
       ]
      },
      {
       "output_type": "stream",
       "stream": "stdout",
       "text": [
        "\n",
        "Batch 335, Minibatch Loss= 0.000668, Training Accuracy= 1.00000"
       ]
      },
      {
       "output_type": "stream",
       "stream": "stdout",
       "text": [
        "\n",
        "Batch 340, Minibatch Loss= 0.000404, Training Accuracy= 1.00000"
       ]
      },
      {
       "output_type": "stream",
       "stream": "stdout",
       "text": [
        "\n",
        "Batch 345, Minibatch Loss= 0.000630, Training Accuracy= 1.00000"
       ]
      },
      {
       "output_type": "stream",
       "stream": "stdout",
       "text": [
        "\n",
        "Batch 350, Minibatch Loss= 0.000378, Training Accuracy= 1.00000"
       ]
      },
      {
       "output_type": "stream",
       "stream": "stdout",
       "text": [
        "\n",
        "Batch 355, Minibatch Loss= 0.000595, Training Accuracy= 1.00000"
       ]
      },
      {
       "output_type": "stream",
       "stream": "stdout",
       "text": [
        "\n",
        "Batch 360, Minibatch Loss= 0.000356, Training Accuracy= 1.00000"
       ]
      },
      {
       "output_type": "stream",
       "stream": "stdout",
       "text": [
        "\n",
        "Batch 365, Minibatch Loss= 0.000563, Training Accuracy= 1.00000"
       ]
      },
      {
       "output_type": "stream",
       "stream": "stdout",
       "text": [
        "\n",
        "Batch 370, Minibatch Loss= 0.000335, Training Accuracy= 1.00000"
       ]
      },
      {
       "output_type": "stream",
       "stream": "stdout",
       "text": [
        "\n",
        "Batch 375, Minibatch Loss= 0.000533, Training Accuracy= 1.00000"
       ]
      },
      {
       "output_type": "stream",
       "stream": "stdout",
       "text": [
        "\n",
        "Batch 380, Minibatch Loss= 0.000316, Training Accuracy= 1.00000"
       ]
      },
      {
       "output_type": "stream",
       "stream": "stdout",
       "text": [
        "\n",
        "Batch 385, Minibatch Loss= 0.000506, Training Accuracy= 1.00000"
       ]
      },
      {
       "output_type": "stream",
       "stream": "stdout",
       "text": [
        "\n",
        "Batch 390, Minibatch Loss= 0.000299, Training Accuracy= 1.00000"
       ]
      },
      {
       "output_type": "stream",
       "stream": "stdout",
       "text": [
        "\n",
        "Batch 395, Minibatch Loss= 0.000480, Training Accuracy= 1.00000"
       ]
      },
      {
       "output_type": "stream",
       "stream": "stdout",
       "text": [
        "\n",
        "Batch 400, Minibatch Loss= 0.000283, Training Accuracy= 1.00000"
       ]
      },
      {
       "output_type": "stream",
       "stream": "stdout",
       "text": [
        "\n",
        "Batch 405, Minibatch Loss= 0.000457, Training Accuracy= 1.00000"
       ]
      },
      {
       "output_type": "stream",
       "stream": "stdout",
       "text": [
        "\n",
        "Batch 410, Minibatch Loss= 0.000268, Training Accuracy= 1.00000"
       ]
      },
      {
       "output_type": "stream",
       "stream": "stdout",
       "text": [
        "\n",
        "Batch 415, Minibatch Loss= 0.000435, Training Accuracy= 1.00000"
       ]
      },
      {
       "output_type": "stream",
       "stream": "stdout",
       "text": [
        "\n",
        "Batch 420, Minibatch Loss= 0.000255, Training Accuracy= 1.00000"
       ]
      },
      {
       "output_type": "stream",
       "stream": "stdout",
       "text": [
        "\n",
        "Batch 425, Minibatch Loss= 0.000415, Training Accuracy= 1.00000"
       ]
      },
      {
       "output_type": "stream",
       "stream": "stdout",
       "text": [
        "\n",
        "Batch 430, Minibatch Loss= 0.000242, Training Accuracy= 1.00000"
       ]
      },
      {
       "output_type": "stream",
       "stream": "stdout",
       "text": [
        "\n",
        "Batch 435, Minibatch Loss= 0.000396, Training Accuracy= 1.00000"
       ]
      },
      {
       "output_type": "stream",
       "stream": "stdout",
       "text": [
        "\n",
        "Batch 440, Minibatch Loss= 0.000231, Training Accuracy= 1.00000"
       ]
      },
      {
       "output_type": "stream",
       "stream": "stdout",
       "text": [
        "\n",
        "Batch 445, Minibatch Loss= 0.000378, Training Accuracy= 1.00000"
       ]
      },
      {
       "output_type": "stream",
       "stream": "stdout",
       "text": [
        "\n",
        "Batch 450, Minibatch Loss= 0.000220, Training Accuracy= 1.00000"
       ]
      },
      {
       "output_type": "stream",
       "stream": "stdout",
       "text": [
        "\n",
        "Batch 455, Minibatch Loss= 0.000362, Training Accuracy= 1.00000"
       ]
      },
      {
       "output_type": "stream",
       "stream": "stdout",
       "text": [
        "\n",
        "Batch 460, Minibatch Loss= 0.000210, Training Accuracy= 1.00000"
       ]
      },
      {
       "output_type": "stream",
       "stream": "stdout",
       "text": [
        "\n",
        "Batch 465, Minibatch Loss= 0.000346, Training Accuracy= 1.00000"
       ]
      },
      {
       "output_type": "stream",
       "stream": "stdout",
       "text": [
        "\n",
        "Batch 470, Minibatch Loss= 0.000201, Training Accuracy= 1.00000"
       ]
      },
      {
       "output_type": "stream",
       "stream": "stdout",
       "text": [
        "\n",
        "Batch 475, Minibatch Loss= 0.000332, Training Accuracy= 1.00000"
       ]
      },
      {
       "output_type": "stream",
       "stream": "stdout",
       "text": [
        "\n",
        "Batch 480, Minibatch Loss= 0.000192, Training Accuracy= 1.00000"
       ]
      },
      {
       "output_type": "stream",
       "stream": "stdout",
       "text": [
        "\n",
        "Batch 485, Minibatch Loss= 0.000318, Training Accuracy= 1.00000"
       ]
      },
      {
       "output_type": "stream",
       "stream": "stdout",
       "text": [
        "\n",
        "Batch 490, Minibatch Loss= 0.000184, Training Accuracy= 1.00000"
       ]
      },
      {
       "output_type": "stream",
       "stream": "stdout",
       "text": [
        "\n",
        "Batch 495, Minibatch Loss= 0.000305, Training Accuracy= 1.00000"
       ]
      },
      {
       "output_type": "stream",
       "stream": "stdout",
       "text": [
        "\n"
       ]
      }
     ],
     "prompt_number": 10
    },
    {
     "cell_type": "code",
     "collapsed": false,
     "input": [],
     "language": "python",
     "metadata": {},
     "outputs": [],
     "prompt_number": 10
    }
   ],
   "metadata": {}
  }
 ]
}