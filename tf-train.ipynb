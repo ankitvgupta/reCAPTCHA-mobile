{
 "metadata": {
  "name": "",
  "signature": "sha256:9b9e0db221385b3e158464114e71a4cca923401c76129f8a05ef92d2e9f8e19e"
 },
 "nbformat": 3,
 "nbformat_minor": 0,
 "worksheets": [
  {
   "cells": [
    {
     "cell_type": "code",
     "collapsed": false,
     "input": [
      "import numpy as np\n",
      "import tensorflow as tf\n",
      "from tensorflow.python.ops import rnn, rnn_cell\n",
      "from sklearn.cross_validation import train_test_split"
     ],
     "language": "python",
     "metadata": {},
     "outputs": [],
     "prompt_number": 1
    },
    {
     "cell_type": "heading",
     "level": 2,
     "metadata": {},
     "source": [
      "Set up the minibatcher for batch learning"
     ]
    },
    {
     "cell_type": "code",
     "collapsed": false,
     "input": [
      "def minibatcher(data_x, data_y, batch_size, num_repeats):\n",
      "    assert(data_x.shape[0])\n",
      "    data_size = data_x.shape[0]\n",
      "    for _ in range(num_repeats):\n",
      "        start = 0\n",
      "        while start < data_size:\n",
      "            yield data_x[start:start + batch_size], data_y[start:start + batch_size]\n",
      "            start += batch_size\n",
      "    "
     ],
     "language": "python",
     "metadata": {},
     "outputs": [],
     "prompt_number": 2
    },
    {
     "cell_type": "heading",
     "level": 2,
     "metadata": {},
     "source": [
      "Indicate all of the training constants"
     ]
    },
    {
     "cell_type": "code",
     "collapsed": false,
     "input": [
      "n_hidden = 100 # Size of the LSTM hidden layer\n",
      "batch_size = 8 # Number of data points in a batch\n",
      "learning_rate = 0.01 # Learning rate of the optimizer\n",
      "dropout_keep_prob = .8\n"
     ],
     "language": "python",
     "metadata": {},
     "outputs": [],
     "prompt_number": 3
    },
    {
     "cell_type": "heading",
     "level": 2,
     "metadata": {},
     "source": [
      "Import the data, and split it into training and testing sets"
     ]
    },
    {
     "cell_type": "code",
     "collapsed": false,
     "input": [
      "input_motion_data = np.load(\"gmail/clean_data.npy\")\n",
      "output_motion_data = np.load(\"gmail/labels.npy\")\n",
      "\n",
      "# Update the dataset to only be the labeled data (the ones that aren't 0)\n",
      "labeled = output_motion_data != 0\n",
      "input_motion_data = input_motion_data[labeled]\n",
      "output_motion_data = output_motion_data[labeled] - 1 # Need to decrement by 1 since we removed all the 0s\n",
      "n_samples = input_motion_data.shape[0]\n",
      "n_steps = input_motion_data.shape[1]\n",
      "n_input = input_motion_data.shape[2]\n",
      "n_classes = np.max(output_motion_data) + 1"
     ],
     "language": "python",
     "metadata": {},
     "outputs": [],
     "prompt_number": 4
    },
    {
     "cell_type": "code",
     "collapsed": false,
     "input": [
      "output_classes = np.zeros((n_samples, n_classes))\n",
      "for i in range(n_samples):\n",
      "    output_classes[i, output_motion_data[i]] = 1"
     ],
     "language": "python",
     "metadata": {},
     "outputs": [],
     "prompt_number": 5
    },
    {
     "cell_type": "code",
     "collapsed": false,
     "input": [
      "X_train, X_test, Y_train, Y_test = train_test_split(input_motion_data, output_classes, test_size=.2)"
     ],
     "language": "python",
     "metadata": {},
     "outputs": [],
     "prompt_number": 6
    },
    {
     "cell_type": "heading",
     "level": 4,
     "metadata": {},
     "source": [
      "Count of each class"
     ]
    },
    {
     "cell_type": "code",
     "collapsed": false,
     "input": [
      "np.bincount(np.argmax(Y_train, axis=1))"
     ],
     "language": "python",
     "metadata": {},
     "outputs": [
      {
       "metadata": {},
       "output_type": "pyout",
       "prompt_number": 7,
       "text": [
        "array([54, 48, 74, 21, 75])"
       ]
      }
     ],
     "prompt_number": 7
    },
    {
     "cell_type": "heading",
     "level": 2,
     "metadata": {},
     "source": [
      "Define the placeholders and variables to be optimized"
     ]
    },
    {
     "cell_type": "code",
     "collapsed": false,
     "input": [
      "x = tf.placeholder(\"float\", [None, n_steps, n_input])\n",
      "y = tf.placeholder(\"float\", [None, n_classes])\n",
      "keep_prob = tf.placeholder(tf.float32)\n",
      "# Define weights\n",
      "weights = {\n",
      "    'hidden': tf.Variable(tf.random_normal([n_hidden, n_hidden])),\n",
      "    'out': tf.Variable(tf.random_normal([n_hidden, n_classes]))\n",
      "}\n",
      "biases = {\n",
      "    'hidden': tf.Variable(tf.random_normal([n_hidden])),\n",
      "    'out': tf.Variable(tf.random_normal([n_classes]))\n",
      "}"
     ],
     "language": "python",
     "metadata": {},
     "outputs": [],
     "prompt_number": 8
    },
    {
     "cell_type": "heading",
     "level": 2,
     "metadata": {},
     "source": [
      "Define the model"
     ]
    },
    {
     "cell_type": "code",
     "collapsed": false,
     "input": [
      "def RNN(x, weights, biases):\n",
      "\n",
      "    # Prepare data shape to match `rnn` function requirements\n",
      "    # Current data input shape: (batch_size, n_steps, n_input)\n",
      "    # Required shape: 'n_steps' tensors list of shape (batch_size, n_input)\n",
      "    \n",
      "    # Permuting batch_size and n_steps\n",
      "    x = tf.transpose(x, [1, 0, 2])\n",
      "    # Reshaping to (n_steps*batch_size, n_input)\n",
      "    x = tf.reshape(x, [-1, n_input])\n",
      "    # Split to get a list of 'n_steps' tensors of shape (batch_size, n_input)\n",
      "    x = tf.split(0, n_steps, x)\n",
      "\n",
      "    # Define a lstm cell with tensorflow\n",
      "    lstm_cell = rnn_cell.BasicLSTMCell(n_hidden, forget_bias=1.0)\n",
      "\n",
      "    # Get lstm cell output\n",
      "    outputs, states = rnn.rnn(lstm_cell, x, dtype=tf.float32)\n",
      "\n",
      "    hidden_layer = tf.nn.relu(tf.matmul(outputs[-1], weights['hidden']) + biases['hidden'])\n",
      "    hidden_layer = tf.nn.dropout(hidden_layer, keep_prob)\n",
      "    return tf.matmul(hidden_layer, weights['out']) + biases['out']\n",
      "    \n",
      "    \n",
      "    # Linear activation, using rnn inner loop last output\n",
      "    # return tf.matmul(outputs[-1], weights['out']) + biases['out']\n"
     ],
     "language": "python",
     "metadata": {},
     "outputs": [],
     "prompt_number": 9
    },
    {
     "cell_type": "heading",
     "level": 2,
     "metadata": {},
     "source": [
      "Define the various graphs: notably cost, optimizer, and accuracy"
     ]
    },
    {
     "cell_type": "code",
     "collapsed": false,
     "input": [
      "pred = RNN(x, weights, biases)\n",
      "\n",
      "cost = tf.reduce_mean(tf.nn.softmax_cross_entropy_with_logits(pred, y))\n",
      "optimizer = tf.train.AdamOptimizer(learning_rate=learning_rate).minimize(cost)\n",
      "\n",
      "# Evaluate model\n",
      "correct_pred = tf.equal(tf.argmax(pred,1), tf.argmax(y,1))\n",
      "accuracy = tf.reduce_mean(tf.cast(correct_pred, tf.float32))"
     ],
     "language": "python",
     "metadata": {},
     "outputs": [],
     "prompt_number": 10
    },
    {
     "cell_type": "heading",
     "level": 2,
     "metadata": {},
     "source": [
      "Run the optimization"
     ]
    },
    {
     "cell_type": "code",
     "collapsed": false,
     "input": [
      "sess = tf.Session()"
     ],
     "language": "python",
     "metadata": {},
     "outputs": [],
     "prompt_number": 11
    },
    {
     "cell_type": "code",
     "collapsed": false,
     "input": [
      "sess.run(tf.initialize_all_variables())\n",
      "\n",
      "for (rep, (batch_x, batch_y)) in enumerate(minibatcher(X_train,Y_train,10, 20)):\n",
      "    sess.run(optimizer, feed_dict={x: batch_x, y: batch_y, keep_prob: dropout_keep_prob})\n",
      "    if rep % 5 == 0:\n",
      "        # Calculate batch accuracy\n",
      "        acc = sess.run(accuracy, feed_dict={x: batch_x, y: batch_y, keep_prob: 1.0})\n",
      "        test_acc = sess.run(accuracy, feed_dict={x: X_test, y: Y_test, keep_prob: 1.0})\n",
      "        # Calculate batch loss\n",
      "        loss = sess.run(cost, feed_dict={x: batch_x, y: batch_y, keep_prob: dropout_keep_prob})\n",
      "        print \"Batch \" + str(rep) + \", Minibatch Loss= \" + \\\n",
      "              \"{:.6f}\".format(loss) + \", Training Accuracy= \" + \\\n",
      "              \"{:.5f}\".format(acc) + \", Test Accuracy= \" + \"{:.5f}\".format(test_acc)\n",
      "final_test_acc = sess.run(accuracy, feed_dict={x: X_test, y: Y_test, keep_prob: 1.0})\n",
      "print \"Final Test accuracy = \" + \"{:.5f}\".format(final_test_acc)"
     ],
     "language": "python",
     "metadata": {},
     "outputs": [
      {
       "output_type": "stream",
       "stream": "stdout",
       "text": [
        "Batch 0, Minibatch Loss= 5.922886, Training Accuracy= 0.60000, Test Accuracy= 0.19118\n",
        "Batch 5, Minibatch Loss= 26.363836, Training Accuracy= 0.50000, Test Accuracy= 0.47059"
       ]
      },
      {
       "output_type": "stream",
       "stream": "stdout",
       "text": [
        "\n",
        "Batch 10, Minibatch Loss= 15.550573, Training Accuracy= 0.60000, Test Accuracy= 0.54412"
       ]
      },
      {
       "output_type": "stream",
       "stream": "stdout",
       "text": [
        "\n",
        "Batch 15, Minibatch Loss= 3.195694, Training Accuracy= 0.80000, Test Accuracy= 0.63235"
       ]
      },
      {
       "output_type": "stream",
       "stream": "stdout",
       "text": [
        "\n",
        "Batch 20, Minibatch Loss= 10.831560, Training Accuracy= 0.60000, Test Accuracy= 0.57353"
       ]
      },
      {
       "output_type": "stream",
       "stream": "stdout",
       "text": [
        "\n",
        "Batch 25, Minibatch Loss= 2.985694, Training Accuracy= 0.90000, Test Accuracy= 0.60294"
       ]
      },
      {
       "output_type": "stream",
       "stream": "stdout",
       "text": [
        "\n",
        "Batch 30, Minibatch Loss= 7.619416, Training Accuracy= 0.70000, Test Accuracy= 0.67647"
       ]
      },
      {
       "output_type": "stream",
       "stream": "stdout",
       "text": [
        "\n",
        "Batch 35, Minibatch Loss= 0.085391, Training Accuracy= 1.00000, Test Accuracy= 0.55882"
       ]
      },
      {
       "output_type": "stream",
       "stream": "stdout",
       "text": [
        "\n",
        "Batch 40, Minibatch Loss= 4.585456, Training Accuracy= 0.70000, Test Accuracy= 0.54412"
       ]
      },
      {
       "output_type": "stream",
       "stream": "stdout",
       "text": [
        "\n",
        "Batch 45, Minibatch Loss= 1.014628, Training Accuracy= 1.00000, Test Accuracy= 0.57353"
       ]
      },
      {
       "output_type": "stream",
       "stream": "stdout",
       "text": [
        "\n",
        "Batch 50, Minibatch Loss= 8.398504, Training Accuracy= 0.50000, Test Accuracy= 0.58824"
       ]
      },
      {
       "output_type": "stream",
       "stream": "stdout",
       "text": [
        "\n",
        "Batch 55, Minibatch Loss= 0.999887, Training Accuracy= 1.00000, Test Accuracy= 0.60294"
       ]
      },
      {
       "output_type": "stream",
       "stream": "stdout",
       "text": [
        "\n",
        "Batch 60, Minibatch Loss= 1.047333, Training Accuracy= 0.90000, Test Accuracy= 0.67647"
       ]
      },
      {
       "output_type": "stream",
       "stream": "stdout",
       "text": [
        "\n",
        "Batch 65, Minibatch Loss= 5.778928, Training Accuracy= 0.80000, Test Accuracy= 0.69118"
       ]
      },
      {
       "output_type": "stream",
       "stream": "stdout",
       "text": [
        "\n",
        "Batch 70, Minibatch Loss= 1.091193, Training Accuracy= 0.90000, Test Accuracy= 0.61765"
       ]
      },
      {
       "output_type": "stream",
       "stream": "stdout",
       "text": [
        "\n",
        "Batch 75, Minibatch Loss= 0.165578, Training Accuracy= 1.00000, Test Accuracy= 0.64706"
       ]
      },
      {
       "output_type": "stream",
       "stream": "stdout",
       "text": [
        "\n",
        "Batch 80, Minibatch Loss= 1.167513, Training Accuracy= 0.90000, Test Accuracy= 0.67647"
       ]
      },
      {
       "output_type": "stream",
       "stream": "stdout",
       "text": [
        "\n",
        "Batch 85, Minibatch Loss= 0.628030, Training Accuracy= 1.00000, Test Accuracy= 0.69118"
       ]
      },
      {
       "output_type": "stream",
       "stream": "stdout",
       "text": [
        "\n",
        "Batch 90, Minibatch Loss= 2.559530, Training Accuracy= 0.70000, Test Accuracy= 0.67647"
       ]
      },
      {
       "output_type": "stream",
       "stream": "stdout",
       "text": [
        "\n",
        "Batch 95, Minibatch Loss= 3.603266, Training Accuracy= 0.80000, Test Accuracy= 0.64706"
       ]
      },
      {
       "output_type": "stream",
       "stream": "stdout",
       "text": [
        "\n",
        "Batch 100, Minibatch Loss= 0.524333, Training Accuracy= 0.90000, Test Accuracy= 0.61765"
       ]
      },
      {
       "output_type": "stream",
       "stream": "stdout",
       "text": [
        "\n",
        "Batch 105, Minibatch Loss= 0.000001, Training Accuracy= 1.00000, Test Accuracy= 0.64706"
       ]
      },
      {
       "output_type": "stream",
       "stream": "stdout",
       "text": [
        "\n",
        "Batch 110, Minibatch Loss= 3.176073, Training Accuracy= 0.80000, Test Accuracy= 0.63235"
       ]
      },
      {
       "output_type": "stream",
       "stream": "stdout",
       "text": [
        "\n",
        "Batch 115, Minibatch Loss= 1.644759, Training Accuracy= 0.90000, Test Accuracy= 0.61765"
       ]
      },
      {
       "output_type": "stream",
       "stream": "stdout",
       "text": [
        "\n",
        "Batch 120, Minibatch Loss= 3.891701, Training Accuracy= 0.90000, Test Accuracy= 0.57353"
       ]
      },
      {
       "output_type": "stream",
       "stream": "stdout",
       "text": [
        "\n",
        "Batch 125, Minibatch Loss= 0.047088, Training Accuracy= 0.90000, Test Accuracy= 0.64706"
       ]
      },
      {
       "output_type": "stream",
       "stream": "stdout",
       "text": [
        "\n",
        "Batch 130, Minibatch Loss= 0.338710, Training Accuracy= 0.90000, Test Accuracy= 0.63235"
       ]
      },
      {
       "output_type": "stream",
       "stream": "stdout",
       "text": [
        "\n",
        "Batch 135, Minibatch Loss= 0.015347, Training Accuracy= 1.00000, Test Accuracy= 0.64706"
       ]
      },
      {
       "output_type": "stream",
       "stream": "stdout",
       "text": [
        "\n",
        "Batch 140, Minibatch Loss= 3.163444, Training Accuracy= 0.60000, Test Accuracy= 0.67647"
       ]
      },
      {
       "output_type": "stream",
       "stream": "stdout",
       "text": [
        "\n",
        "Batch 145, Minibatch Loss= 2.593583, Training Accuracy= 1.00000, Test Accuracy= 0.67647"
       ]
      },
      {
       "output_type": "stream",
       "stream": "stdout",
       "text": [
        "\n",
        "Batch 150, Minibatch Loss= 0.711055, Training Accuracy= 0.90000, Test Accuracy= 0.64706"
       ]
      },
      {
       "output_type": "stream",
       "stream": "stdout",
       "text": [
        "\n",
        "Batch 155, Minibatch Loss= 0.001886, Training Accuracy= 1.00000, Test Accuracy= 0.64706"
       ]
      },
      {
       "output_type": "stream",
       "stream": "stdout",
       "text": [
        "\n",
        "Batch 160, Minibatch Loss= 0.556467, Training Accuracy= 0.80000, Test Accuracy= 0.63235"
       ]
      },
      {
       "output_type": "stream",
       "stream": "stdout",
       "text": [
        "\n",
        "Batch 165, Minibatch Loss= 0.956654, Training Accuracy= 0.80000, Test Accuracy= 0.64706"
       ]
      },
      {
       "output_type": "stream",
       "stream": "stdout",
       "text": [
        "\n",
        "Batch 170, Minibatch Loss= 1.005051, Training Accuracy= 0.90000, Test Accuracy= 0.64706"
       ]
      },
      {
       "output_type": "stream",
       "stream": "stdout",
       "text": [
        "\n",
        "Batch 175, Minibatch Loss= 0.423413, Training Accuracy= 0.90000, Test Accuracy= 0.66176"
       ]
      },
      {
       "output_type": "stream",
       "stream": "stdout",
       "text": [
        "\n",
        "Batch 180, Minibatch Loss= 0.587804, Training Accuracy= 0.90000, Test Accuracy= 0.58824"
       ]
      },
      {
       "output_type": "stream",
       "stream": "stdout",
       "text": [
        "\n",
        "Batch 185, Minibatch Loss= 0.111741, Training Accuracy= 1.00000, Test Accuracy= 0.66176"
       ]
      },
      {
       "output_type": "stream",
       "stream": "stdout",
       "text": [
        "\n",
        "Batch 190, Minibatch Loss= 2.243959, Training Accuracy= 0.90000, Test Accuracy= 0.66176"
       ]
      },
      {
       "output_type": "stream",
       "stream": "stdout",
       "text": [
        "\n",
        "Batch 195, Minibatch Loss= 0.000410, Training Accuracy= 1.00000, Test Accuracy= 0.63235"
       ]
      },
      {
       "output_type": "stream",
       "stream": "stdout",
       "text": [
        "\n",
        "Batch 200, Minibatch Loss= 0.022547, Training Accuracy= 0.90000, Test Accuracy= 0.63235"
       ]
      },
      {
       "output_type": "stream",
       "stream": "stdout",
       "text": [
        "\n",
        "Batch 205, Minibatch Loss= 1.667156, Training Accuracy= 1.00000, Test Accuracy= 0.63235"
       ]
      },
      {
       "output_type": "stream",
       "stream": "stdout",
       "text": [
        "\n",
        "Batch 210, Minibatch Loss= 0.778641, Training Accuracy= 0.90000, Test Accuracy= 0.63235"
       ]
      },
      {
       "output_type": "stream",
       "stream": "stdout",
       "text": [
        "\n",
        "Batch 215, Minibatch Loss= 0.511965, Training Accuracy= 1.00000, Test Accuracy= 0.63235"
       ]
      },
      {
       "output_type": "stream",
       "stream": "stdout",
       "text": [
        "\n",
        "Batch 220, Minibatch Loss= 2.147568, Training Accuracy= 1.00000, Test Accuracy= 0.67647"
       ]
      },
      {
       "output_type": "stream",
       "stream": "stdout",
       "text": [
        "\n",
        "Batch 225, Minibatch Loss= 0.392238, Training Accuracy= 0.90000, Test Accuracy= 0.69118"
       ]
      },
      {
       "output_type": "stream",
       "stream": "stdout",
       "text": [
        "\n",
        "Batch 230, Minibatch Loss= 0.000671, Training Accuracy= 1.00000, Test Accuracy= 0.66176"
       ]
      },
      {
       "output_type": "stream",
       "stream": "stdout",
       "text": [
        "\n",
        "Batch 235, Minibatch Loss= 0.006219, Training Accuracy= 1.00000, Test Accuracy= 0.63235"
       ]
      },
      {
       "output_type": "stream",
       "stream": "stdout",
       "text": [
        "\n",
        "Batch 240, Minibatch Loss= 0.419107, Training Accuracy= 1.00000, Test Accuracy= 0.64706"
       ]
      },
      {
       "output_type": "stream",
       "stream": "stdout",
       "text": [
        "\n",
        "Batch 245, Minibatch Loss= 0.059188, Training Accuracy= 1.00000, Test Accuracy= 0.64706"
       ]
      },
      {
       "output_type": "stream",
       "stream": "stdout",
       "text": [
        "\n",
        "Batch 250, Minibatch Loss= 1.344961, Training Accuracy= 0.80000, Test Accuracy= 0.66176"
       ]
      },
      {
       "output_type": "stream",
       "stream": "stdout",
       "text": [
        "\n",
        "Batch 255, Minibatch Loss= 0.003518, Training Accuracy= 1.00000, Test Accuracy= 0.63235"
       ]
      },
      {
       "output_type": "stream",
       "stream": "stdout",
       "text": [
        "\n",
        "Batch 260, Minibatch Loss= 0.000091, Training Accuracy= 1.00000, Test Accuracy= 0.64706"
       ]
      },
      {
       "output_type": "stream",
       "stream": "stdout",
       "text": [
        "\n",
        "Batch 265, Minibatch Loss= 0.000333, Training Accuracy= 1.00000, Test Accuracy= 0.66176"
       ]
      },
      {
       "output_type": "stream",
       "stream": "stdout",
       "text": [
        "\n",
        "Batch 270, Minibatch Loss= 0.001311, Training Accuracy= 1.00000, Test Accuracy= 0.64706"
       ]
      },
      {
       "output_type": "stream",
       "stream": "stdout",
       "text": [
        "\n",
        "Batch 275, Minibatch Loss= 0.177149, Training Accuracy= 1.00000, Test Accuracy= 0.64706"
       ]
      },
      {
       "output_type": "stream",
       "stream": "stdout",
       "text": [
        "\n",
        "Batch 280, Minibatch Loss= 0.532909, Training Accuracy= 1.00000, Test Accuracy= 0.64706"
       ]
      },
      {
       "output_type": "stream",
       "stream": "stdout",
       "text": [
        "\n",
        "Batch 285, Minibatch Loss= 0.000134, Training Accuracy= 1.00000, Test Accuracy= 0.64706"
       ]
      },
      {
       "output_type": "stream",
       "stream": "stdout",
       "text": [
        "\n",
        "Batch 290, Minibatch Loss= 0.530955, Training Accuracy= 1.00000, Test Accuracy= 0.66176"
       ]
      },
      {
       "output_type": "stream",
       "stream": "stdout",
       "text": [
        "\n",
        "Batch 295, Minibatch Loss= 0.037817, Training Accuracy= 1.00000, Test Accuracy= 0.69118"
       ]
      },
      {
       "output_type": "stream",
       "stream": "stdout",
       "text": [
        "\n",
        "Batch 300, Minibatch Loss= 0.678868, Training Accuracy= 1.00000, Test Accuracy= 0.70588"
       ]
      },
      {
       "output_type": "stream",
       "stream": "stdout",
       "text": [
        "\n",
        "Batch 305, Minibatch Loss= 0.020021, Training Accuracy= 1.00000, Test Accuracy= 0.69118"
       ]
      },
      {
       "output_type": "stream",
       "stream": "stdout",
       "text": [
        "\n",
        "Batch 310, Minibatch Loss= 0.142041, Training Accuracy= 1.00000, Test Accuracy= 0.64706"
       ]
      },
      {
       "output_type": "stream",
       "stream": "stdout",
       "text": [
        "\n",
        "Batch 315, Minibatch Loss= 0.030057, Training Accuracy= 0.90000, Test Accuracy= 0.67647"
       ]
      },
      {
       "output_type": "stream",
       "stream": "stdout",
       "text": [
        "\n",
        "Batch 320, Minibatch Loss= 0.165298, Training Accuracy= 0.90000, Test Accuracy= 0.66176"
       ]
      },
      {
       "output_type": "stream",
       "stream": "stdout",
       "text": [
        "\n",
        "Batch 325, Minibatch Loss= 0.061059, Training Accuracy= 0.90000, Test Accuracy= 0.64706"
       ]
      },
      {
       "output_type": "stream",
       "stream": "stdout",
       "text": [
        "\n",
        "Batch 330, Minibatch Loss= 1.530929, Training Accuracy= 0.80000, Test Accuracy= 0.63235"
       ]
      },
      {
       "output_type": "stream",
       "stream": "stdout",
       "text": [
        "\n",
        "Batch 335, Minibatch Loss= 0.000000, Training Accuracy= 1.00000, Test Accuracy= 0.66176"
       ]
      },
      {
       "output_type": "stream",
       "stream": "stdout",
       "text": [
        "\n",
        "Batch 340, Minibatch Loss= 0.267124, Training Accuracy= 1.00000, Test Accuracy= 0.63235"
       ]
      },
      {
       "output_type": "stream",
       "stream": "stdout",
       "text": [
        "\n",
        "Batch 345, Minibatch Loss= 0.804980, Training Accuracy= 0.90000, Test Accuracy= 0.63235"
       ]
      },
      {
       "output_type": "stream",
       "stream": "stdout",
       "text": [
        "\n",
        "Batch 350, Minibatch Loss= 0.000012, Training Accuracy= 1.00000, Test Accuracy= 0.66176"
       ]
      },
      {
       "output_type": "stream",
       "stream": "stdout",
       "text": [
        "\n",
        "Batch 355, Minibatch Loss= 0.298803, Training Accuracy= 1.00000, Test Accuracy= 0.64706"
       ]
      },
      {
       "output_type": "stream",
       "stream": "stdout",
       "text": [
        "\n",
        "Batch 360, Minibatch Loss= 2.659912, Training Accuracy= 0.80000, Test Accuracy= 0.66176"
       ]
      },
      {
       "output_type": "stream",
       "stream": "stdout",
       "text": [
        "\n",
        "Batch 365, Minibatch Loss= 0.214181, Training Accuracy= 1.00000, Test Accuracy= 0.67647"
       ]
      },
      {
       "output_type": "stream",
       "stream": "stdout",
       "text": [
        "\n",
        "Batch 370, Minibatch Loss= 1.962515, Training Accuracy= 1.00000, Test Accuracy= 0.66176"
       ]
      },
      {
       "output_type": "stream",
       "stream": "stdout",
       "text": [
        "\n",
        "Batch 375, Minibatch Loss= 0.001328, Training Accuracy= 1.00000, Test Accuracy= 0.67647"
       ]
      },
      {
       "output_type": "stream",
       "stream": "stdout",
       "text": [
        "\n",
        "Batch 380, Minibatch Loss= 0.006266, Training Accuracy= 1.00000, Test Accuracy= 0.66176"
       ]
      },
      {
       "output_type": "stream",
       "stream": "stdout",
       "text": [
        "\n",
        "Batch 385, Minibatch Loss= 0.000001, Training Accuracy= 1.00000, Test Accuracy= 0.67647"
       ]
      },
      {
       "output_type": "stream",
       "stream": "stdout",
       "text": [
        "\n",
        "Batch 390, Minibatch Loss= 0.033368, Training Accuracy= 1.00000, Test Accuracy= 0.66176"
       ]
      },
      {
       "output_type": "stream",
       "stream": "stdout",
       "text": [
        "\n",
        "Batch 395, Minibatch Loss= 0.651946, Training Accuracy= 0.90000, Test Accuracy= 0.66176"
       ]
      },
      {
       "output_type": "stream",
       "stream": "stdout",
       "text": [
        "\n",
        "Batch 400, Minibatch Loss= 0.198559, Training Accuracy= 0.90000, Test Accuracy= 0.63235"
       ]
      },
      {
       "output_type": "stream",
       "stream": "stdout",
       "text": [
        "\n",
        "Batch 405, Minibatch Loss= 0.062990, Training Accuracy= 1.00000, Test Accuracy= 0.63235"
       ]
      },
      {
       "output_type": "stream",
       "stream": "stdout",
       "text": [
        "\n",
        "Batch 410, Minibatch Loss= 0.722862, Training Accuracy= 0.80000, Test Accuracy= 0.69118"
       ]
      },
      {
       "output_type": "stream",
       "stream": "stdout",
       "text": [
        "\n",
        "Batch 415, Minibatch Loss= 0.092855, Training Accuracy= 1.00000, Test Accuracy= 0.66176"
       ]
      },
      {
       "output_type": "stream",
       "stream": "stdout",
       "text": [
        "\n",
        "Batch 420, Minibatch Loss= 4.084284, Training Accuracy= 0.80000, Test Accuracy= 0.66176"
       ]
      },
      {
       "output_type": "stream",
       "stream": "stdout",
       "text": [
        "\n",
        "Batch 425, Minibatch Loss= 0.003232, Training Accuracy= 1.00000, Test Accuracy= 0.64706"
       ]
      },
      {
       "output_type": "stream",
       "stream": "stdout",
       "text": [
        "\n",
        "Batch 430, Minibatch Loss= 0.113698, Training Accuracy= 1.00000, Test Accuracy= 0.64706"
       ]
      },
      {
       "output_type": "stream",
       "stream": "stdout",
       "text": [
        "\n",
        "Batch 435, Minibatch Loss= 0.823557, Training Accuracy= 1.00000, Test Accuracy= 0.64706"
       ]
      },
      {
       "output_type": "stream",
       "stream": "stdout",
       "text": [
        "\n",
        "Batch 440, Minibatch Loss= 0.001378, Training Accuracy= 1.00000, Test Accuracy= 0.67647"
       ]
      },
      {
       "output_type": "stream",
       "stream": "stdout",
       "text": [
        "\n",
        "Batch 445, Minibatch Loss= 0.468550, Training Accuracy= 0.90000, Test Accuracy= 0.64706"
       ]
      },
      {
       "output_type": "stream",
       "stream": "stdout",
       "text": [
        "\n",
        "Batch 450, Minibatch Loss= 0.267839, Training Accuracy= 1.00000, Test Accuracy= 0.66176"
       ]
      },
      {
       "output_type": "stream",
       "stream": "stdout",
       "text": [
        "\n",
        "Batch 455, Minibatch Loss= 0.000860, Training Accuracy= 1.00000, Test Accuracy= 0.63235"
       ]
      },
      {
       "output_type": "stream",
       "stream": "stdout",
       "text": [
        "\n",
        "Batch 460, Minibatch Loss= 0.011272, Training Accuracy= 0.90000, Test Accuracy= 0.66176"
       ]
      },
      {
       "output_type": "stream",
       "stream": "stdout",
       "text": [
        "\n",
        "Batch 465, Minibatch Loss= 0.017402, Training Accuracy= 1.00000, Test Accuracy= 0.61765"
       ]
      },
      {
       "output_type": "stream",
       "stream": "stdout",
       "text": [
        "\n",
        "Batch 470, Minibatch Loss= 0.398488, Training Accuracy= 0.90000, Test Accuracy= 0.63235"
       ]
      },
      {
       "output_type": "stream",
       "stream": "stdout",
       "text": [
        "\n",
        "Batch 475, Minibatch Loss= 0.000001, Training Accuracy= 1.00000, Test Accuracy= 0.61765"
       ]
      },
      {
       "output_type": "stream",
       "stream": "stdout",
       "text": [
        "\n",
        "Batch 480, Minibatch Loss= 0.075161, Training Accuracy= 0.90000, Test Accuracy= 0.63235"
       ]
      },
      {
       "output_type": "stream",
       "stream": "stdout",
       "text": [
        "\n",
        "Batch 485, Minibatch Loss= 1.201779, Training Accuracy= 0.90000, Test Accuracy= 0.66176"
       ]
      },
      {
       "output_type": "stream",
       "stream": "stdout",
       "text": [
        "\n",
        "Batch 490, Minibatch Loss= 0.497432, Training Accuracy= 0.90000, Test Accuracy= 0.63235"
       ]
      },
      {
       "output_type": "stream",
       "stream": "stdout",
       "text": [
        "\n",
        "Batch 495, Minibatch Loss= 0.000024, Training Accuracy= 1.00000, Test Accuracy= 0.64706"
       ]
      },
      {
       "output_type": "stream",
       "stream": "stdout",
       "text": [
        "\n",
        "Batch 500, Minibatch Loss= 0.030787, Training Accuracy= 1.00000, Test Accuracy= 0.67647"
       ]
      },
      {
       "output_type": "stream",
       "stream": "stdout",
       "text": [
        "\n",
        "Batch 505, Minibatch Loss= 0.678950, Training Accuracy= 0.90000, Test Accuracy= 0.63235"
       ]
      },
      {
       "output_type": "stream",
       "stream": "stdout",
       "text": [
        "\n",
        "Batch 510, Minibatch Loss= 2.114427, Training Accuracy= 0.90000, Test Accuracy= 0.63235"
       ]
      },
      {
       "output_type": "stream",
       "stream": "stdout",
       "text": [
        "\n",
        "Batch 515, Minibatch Loss= 0.505857, Training Accuracy= 1.00000, Test Accuracy= 0.61765"
       ]
      },
      {
       "output_type": "stream",
       "stream": "stdout",
       "text": [
        "\n",
        "Batch 520, Minibatch Loss= 0.001417, Training Accuracy= 1.00000, Test Accuracy= 0.63235"
       ]
      },
      {
       "output_type": "stream",
       "stream": "stdout",
       "text": [
        "\n",
        "Batch 525, Minibatch Loss= 1.966638, Training Accuracy= 0.90000, Test Accuracy= 0.66176"
       ]
      },
      {
       "output_type": "stream",
       "stream": "stdout",
       "text": [
        "\n",
        "Batch 530, Minibatch Loss= 0.837873, Training Accuracy= 0.90000, Test Accuracy= 0.66176"
       ]
      },
      {
       "output_type": "stream",
       "stream": "stdout",
       "text": [
        "\n",
        "Batch 535, Minibatch Loss= 0.002121, Training Accuracy= 1.00000, Test Accuracy= 0.61765"
       ]
      },
      {
       "output_type": "stream",
       "stream": "stdout",
       "text": [
        "\n",
        "Batch 540, Minibatch Loss= 0.001701, Training Accuracy= 1.00000, Test Accuracy= 0.64706"
       ]
      },
      {
       "output_type": "stream",
       "stream": "stdout",
       "text": [
        "\n",
        "Batch 545, Minibatch Loss= 0.721219, Training Accuracy= 0.90000, Test Accuracy= 0.67647"
       ]
      },
      {
       "output_type": "stream",
       "stream": "stdout",
       "text": [
        "\n",
        "Batch 550, Minibatch Loss= 0.045692, Training Accuracy= 1.00000, Test Accuracy= 0.69118"
       ]
      },
      {
       "output_type": "stream",
       "stream": "stdout",
       "text": [
        "\n",
        "Batch 555, Minibatch Loss= 0.147389, Training Accuracy= 1.00000, Test Accuracy= 0.67647"
       ]
      },
      {
       "output_type": "stream",
       "stream": "stdout",
       "text": [
        "\n",
        "Final Test accuracy = 0.61765"
       ]
      },
      {
       "output_type": "stream",
       "stream": "stdout",
       "text": [
        "\n"
       ]
      }
     ],
     "prompt_number": 12
    },
    {
     "cell_type": "code",
     "collapsed": false,
     "input": [
      "np.argmax(sess.run(pred, feed_dict={x: X_test, keep_prob: 1.0}), axis=1)"
     ],
     "language": "python",
     "metadata": {},
     "outputs": [
      {
       "metadata": {},
       "output_type": "pyout",
       "prompt_number": 13,
       "text": [
        "array([2, 0, 4, 2, 0, 4, 3, 4, 1, 2, 2, 4, 1, 2, 4, 4, 3, 0, 4, 4, 2, 2, 3,\n",
        "       0, 1, 4, 1, 1, 0, 2, 0, 0, 3, 4, 2, 4, 1, 2, 4, 0, 4, 2, 0, 1, 1, 4,\n",
        "       2, 1, 4, 2, 0, 3, 1, 3, 4, 4, 1, 4, 2, 2, 0, 0, 0, 1, 1, 3, 4, 1])"
       ]
      }
     ],
     "prompt_number": 13
    },
    {
     "cell_type": "code",
     "collapsed": false,
     "input": [
      "np.argmax(Y_test, axis=1)"
     ],
     "language": "python",
     "metadata": {},
     "outputs": [
      {
       "metadata": {},
       "output_type": "pyout",
       "prompt_number": 14,
       "text": [
        "array([2, 4, 4, 2, 4, 4, 3, 3, 1, 2, 2, 4, 1, 2, 1, 4, 0, 0, 4, 4, 2, 2, 0,\n",
        "       4, 1, 1, 4, 1, 0, 2, 3, 0, 0, 4, 2, 1, 1, 2, 3, 4, 4, 2, 4, 0, 1, 4,\n",
        "       2, 1, 4, 2, 0, 0, 4, 3, 0, 1, 1, 0, 2, 2, 0, 4, 3, 4, 1, 3, 0, 3])"
       ]
      }
     ],
     "prompt_number": 14
    }
   ],
   "metadata": {}
  }
 ]
}