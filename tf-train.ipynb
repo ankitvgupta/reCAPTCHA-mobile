{
 "metadata": {
  "name": "",
  "signature": "sha256:36725a6fcdd9cd6def5b98ac9afec09055dda792d7cc3b4207d735881244c153"
 },
 "nbformat": 3,
 "nbformat_minor": 0,
 "worksheets": [
  {
   "cells": [
    {
     "cell_type": "code",
     "collapsed": false,
     "input": [
      "import numpy as np\n",
      "import tensorflow as tf\n",
      "from tensorflow.python.ops import rnn, rnn_cell\n",
      "from sklearn.cross_validation import train_test_split"
     ],
     "language": "python",
     "metadata": {},
     "outputs": [],
     "prompt_number": 1
    },
    {
     "cell_type": "heading",
     "level": 2,
     "metadata": {},
     "source": [
      "Set up the minibatcher for batch learning"
     ]
    },
    {
     "cell_type": "code",
     "collapsed": false,
     "input": [
      "def minibatcher(data_x, data_y, batch_size, num_repeats):\n",
      "    assert(data_x.shape[0])\n",
      "    data_size = data_x.shape[0]\n",
      "    for _ in range(num_repeats):\n",
      "        start = 0\n",
      "        while start < data_size:\n",
      "            yield data_x[start:start + batch_size], data_y[start:start + batch_size]\n",
      "            start += batch_size\n",
      "    "
     ],
     "language": "python",
     "metadata": {},
     "outputs": [],
     "prompt_number": 2
    },
    {
     "cell_type": "heading",
     "level": 2,
     "metadata": {},
     "source": [
      "Indicate all of the training constants"
     ]
    },
    {
     "cell_type": "code",
     "collapsed": false,
     "input": [
      "n_hidden = 100 # Size of the LSTM hidden layer\n",
      "batch_size = 8 # Number of data points in a batch\n",
      "learning_rate = 0.001 # Learning rate of the optimizer\n"
     ],
     "language": "python",
     "metadata": {},
     "outputs": [],
     "prompt_number": 3
    },
    {
     "cell_type": "heading",
     "level": 2,
     "metadata": {},
     "source": [
      "Import the data, and split it into training and testing sets"
     ]
    },
    {
     "cell_type": "code",
     "collapsed": false,
     "input": [
      "input_motion_data = np.load(\"gmail/clean_data.npy\")\n",
      "output_motion_data = np.load(\"gmail/labels.npy\")\n",
      "\n",
      "# Update the dataset to only be the labeled data (the ones that aren't 0)\n",
      "labeled = output_motion_data != 0\n",
      "input_motion_data = input_motion_data[labeled]\n",
      "output_motion_data = output_motion_data[labeled] - 1 # Need to decrement by 1 since we removed all the 0s\n",
      "n_samples = input_motion_data.shape[0]\n",
      "n_steps = input_motion_data.shape[1]\n",
      "n_input = input_motion_data.shape[2]\n",
      "n_classes = np.max(output_motion_data) + 1\n"
     ],
     "language": "python",
     "metadata": {},
     "outputs": [],
     "prompt_number": 4
    },
    {
     "cell_type": "code",
     "collapsed": false,
     "input": [],
     "language": "python",
     "metadata": {},
     "outputs": [],
     "prompt_number": 25
    },
    {
     "cell_type": "code",
     "collapsed": false,
     "input": [
      "output_classes = np.zeros((n_samples, n_classes))\n",
      "for i in range(n_samples):\n",
      "    output_classes[i, output_motion_data[i]] = 1"
     ],
     "language": "python",
     "metadata": {},
     "outputs": [],
     "prompt_number": 5
    },
    {
     "cell_type": "code",
     "collapsed": false,
     "input": [],
     "language": "python",
     "metadata": {},
     "outputs": [],
     "prompt_number": 5
    },
    {
     "cell_type": "code",
     "collapsed": false,
     "input": [
      "X_train, X_test, Y_train, Y_test = train_test_split(input_motion_data, output_classes, test_size=.2)"
     ],
     "language": "python",
     "metadata": {},
     "outputs": [],
     "prompt_number": 6
    },
    {
     "cell_type": "code",
     "collapsed": false,
     "input": [],
     "language": "python",
     "metadata": {},
     "outputs": [],
     "prompt_number": 6
    },
    {
     "cell_type": "heading",
     "level": 2,
     "metadata": {},
     "source": [
      "Define the placeholders and variables to be optimized"
     ]
    },
    {
     "cell_type": "code",
     "collapsed": false,
     "input": [
      "x = tf.placeholder(\"float\", [None, n_steps, n_input])\n",
      "y = tf.placeholder(\"float\", [None, n_classes])\n",
      "# Define weights\n",
      "weights = {\n",
      "    'out': tf.Variable(tf.random_normal([n_hidden, n_classes]))\n",
      "}\n",
      "biases = {\n",
      "    'out': tf.Variable(tf.random_normal([n_classes]))\n",
      "}"
     ],
     "language": "python",
     "metadata": {},
     "outputs": [],
     "prompt_number": 7
    },
    {
     "cell_type": "heading",
     "level": 2,
     "metadata": {},
     "source": [
      "Define the model"
     ]
    },
    {
     "cell_type": "code",
     "collapsed": false,
     "input": [
      "def RNN(x, weights, biases):\n",
      "\n",
      "    # Prepare data shape to match `rnn` function requirements\n",
      "    # Current data input shape: (batch_size, n_steps, n_input)\n",
      "    # Required shape: 'n_steps' tensors list of shape (batch_size, n_input)\n",
      "    \n",
      "    # Permuting batch_size and n_steps\n",
      "    x = tf.transpose(x, [1, 0, 2])\n",
      "    # Reshaping to (n_steps*batch_size, n_input)\n",
      "    x = tf.reshape(x, [-1, n_input])\n",
      "    # Split to get a list of 'n_steps' tensors of shape (batch_size, n_input)\n",
      "    x = tf.split(0, n_steps, x)\n",
      "\n",
      "    # Define a lstm cell with tensorflow\n",
      "    lstm_cell = rnn_cell.BasicLSTMCell(n_hidden, forget_bias=1.0)\n",
      "\n",
      "    # Get lstm cell output\n",
      "    outputs, states = rnn.rnn(lstm_cell, x, dtype=tf.float32)\n",
      "\n",
      "    # Linear activation, using rnn inner loop last output\n",
      "    return tf.matmul(outputs[-1], weights['out']) + biases['out']\n"
     ],
     "language": "python",
     "metadata": {},
     "outputs": [],
     "prompt_number": 8
    },
    {
     "cell_type": "heading",
     "level": 2,
     "metadata": {},
     "source": [
      "Define the various graphs: notably cost, optimizer, and accuracy"
     ]
    },
    {
     "cell_type": "code",
     "collapsed": false,
     "input": [
      "pred = RNN(x, weights, biases)\n",
      "\n",
      "cost = tf.reduce_mean(tf.nn.softmax_cross_entropy_with_logits(pred, y))\n",
      "optimizer = tf.train.AdamOptimizer(learning_rate=learning_rate).minimize(cost)\n",
      "\n",
      "# Evaluate model\n",
      "correct_pred = tf.equal(tf.argmax(pred,1), tf.argmax(y,1))\n",
      "accuracy = tf.reduce_mean(tf.cast(correct_pred, tf.float32))"
     ],
     "language": "python",
     "metadata": {},
     "outputs": [],
     "prompt_number": 9
    },
    {
     "cell_type": "heading",
     "level": 2,
     "metadata": {},
     "source": [
      "Run the optimization"
     ]
    },
    {
     "cell_type": "code",
     "collapsed": false,
     "input": [
      "sess = tf.Session()"
     ],
     "language": "python",
     "metadata": {},
     "outputs": [],
     "prompt_number": 10
    },
    {
     "cell_type": "code",
     "collapsed": false,
     "input": [
      "sess.run(tf.initialize_all_variables())\n",
      "\n",
      "for (rep, (batch_x, batch_y)) in enumerate(minibatcher(X_train,Y_train,10, 20)):\n",
      "    sess.run(optimizer, feed_dict={x: batch_x, y: batch_y})\n",
      "    if rep % 5 == 0:\n",
      "        # Calculate batch accuracy\n",
      "        acc = sess.run(accuracy, feed_dict={x: batch_x, y: batch_y})\n",
      "        test_acc = sess.run(accuracy, feed_dict={x: X_test, y: Y_test})\n",
      "        # Calculate batch loss\n",
      "        loss = sess.run(cost, feed_dict={x: batch_x, y: batch_y})\n",
      "        print \"Batch \" + str(rep) + \", Minibatch Loss= \" + \\\n",
      "              \"{:.6f}\".format(loss) + \", Training Accuracy= \" + \\\n",
      "              \"{:.5f}\".format(acc) + \", Test Accuracy= \" + \"{:.5f}\".format(test_acc)\n",
      "final_test_acc = sess.run(accuracy, feed_dict={x: X_test, y: Y_test})\n",
      "print \"Final Test accuracy = \" + \"{:.5f}\".format(final_test_acc)"
     ],
     "language": "python",
     "metadata": {},
     "outputs": [
      {
       "output_type": "stream",
       "stream": "stdout",
       "text": [
        "Batch 0, Minibatch Loss= 1.368388, Training Accuracy= 0.70000, Test Accuracy= 0.44000\n",
        "Batch 5, Minibatch Loss= 2.505543, Training Accuracy= 0.40000, Test Accuracy= 0.68000"
       ]
      },
      {
       "output_type": "stream",
       "stream": "stdout",
       "text": [
        "\n",
        "Batch 10, Minibatch Loss= 0.405320, Training Accuracy= 0.80000, Test Accuracy= 0.68000"
       ]
      },
      {
       "output_type": "stream",
       "stream": "stdout",
       "text": [
        "\n",
        "Batch 15, Minibatch Loss= 0.684404, Training Accuracy= 0.80000, Test Accuracy= 0.72000"
       ]
      },
      {
       "output_type": "stream",
       "stream": "stdout",
       "text": [
        "\n",
        "Batch 20, Minibatch Loss= 0.127407, Training Accuracy= 1.00000, Test Accuracy= 0.76000"
       ]
      },
      {
       "output_type": "stream",
       "stream": "stdout",
       "text": [
        "\n",
        "Batch 25, Minibatch Loss= 0.190745, Training Accuracy= 1.00000, Test Accuracy= 0.76000"
       ]
      },
      {
       "output_type": "stream",
       "stream": "stdout",
       "text": [
        "\n",
        "Batch 30, Minibatch Loss= 0.076274, Training Accuracy= 1.00000, Test Accuracy= 0.80000"
       ]
      },
      {
       "output_type": "stream",
       "stream": "stdout",
       "text": [
        "\n",
        "Batch 35, Minibatch Loss= 0.085003, Training Accuracy= 1.00000, Test Accuracy= 0.80000"
       ]
      },
      {
       "output_type": "stream",
       "stream": "stdout",
       "text": [
        "\n",
        "Batch 40, Minibatch Loss= 0.049808, Training Accuracy= 1.00000, Test Accuracy= 0.80000"
       ]
      },
      {
       "output_type": "stream",
       "stream": "stdout",
       "text": [
        "\n",
        "Batch 45, Minibatch Loss= 0.048222, Training Accuracy= 1.00000, Test Accuracy= 0.80000"
       ]
      },
      {
       "output_type": "stream",
       "stream": "stdout",
       "text": [
        "\n",
        "Batch 50, Minibatch Loss= 0.035279, Training Accuracy= 1.00000, Test Accuracy= 0.80000"
       ]
      },
      {
       "output_type": "stream",
       "stream": "stdout",
       "text": [
        "\n",
        "Batch 55, Minibatch Loss= 0.027944, Training Accuracy= 1.00000, Test Accuracy= 0.80000"
       ]
      },
      {
       "output_type": "stream",
       "stream": "stdout",
       "text": [
        "\n",
        "Batch 60, Minibatch Loss= 0.027698, Training Accuracy= 1.00000, Test Accuracy= 0.80000"
       ]
      },
      {
       "output_type": "stream",
       "stream": "stdout",
       "text": [
        "\n",
        "Batch 65, Minibatch Loss= 0.018817, Training Accuracy= 1.00000, Test Accuracy= 0.80000"
       ]
      },
      {
       "output_type": "stream",
       "stream": "stdout",
       "text": [
        "\n",
        "Batch 70, Minibatch Loss= 0.023042, Training Accuracy= 1.00000, Test Accuracy= 0.80000"
       ]
      },
      {
       "output_type": "stream",
       "stream": "stdout",
       "text": [
        "\n",
        "Batch 75, Minibatch Loss= 0.014421, Training Accuracy= 1.00000, Test Accuracy= 0.80000"
       ]
      },
      {
       "output_type": "stream",
       "stream": "stdout",
       "text": [
        "\n",
        "Batch 80, Minibatch Loss= 0.019664, Training Accuracy= 1.00000, Test Accuracy= 0.80000"
       ]
      },
      {
       "output_type": "stream",
       "stream": "stdout",
       "text": [
        "\n",
        "Batch 85, Minibatch Loss= 0.011907, Training Accuracy= 1.00000, Test Accuracy= 0.80000"
       ]
      },
      {
       "output_type": "stream",
       "stream": "stdout",
       "text": [
        "\n",
        "Batch 90, Minibatch Loss= 0.016972, Training Accuracy= 1.00000, Test Accuracy= 0.80000"
       ]
      },
      {
       "output_type": "stream",
       "stream": "stdout",
       "text": [
        "\n",
        "Batch 95, Minibatch Loss= 0.010242, Training Accuracy= 1.00000, Test Accuracy= 0.80000"
       ]
      },
      {
       "output_type": "stream",
       "stream": "stdout",
       "text": [
        "\n",
        "Batch 100, Minibatch Loss= 0.014731, Training Accuracy= 1.00000, Test Accuracy= 0.80000"
       ]
      },
      {
       "output_type": "stream",
       "stream": "stdout",
       "text": [
        "\n",
        "Batch 105, Minibatch Loss= 0.009020, Training Accuracy= 1.00000, Test Accuracy= 0.80000"
       ]
      },
      {
       "output_type": "stream",
       "stream": "stdout",
       "text": [
        "\n",
        "Batch 110, Minibatch Loss= 0.012826, Training Accuracy= 1.00000, Test Accuracy= 0.80000"
       ]
      },
      {
       "output_type": "stream",
       "stream": "stdout",
       "text": [
        "\n",
        "Batch 115, Minibatch Loss= 0.008065, Training Accuracy= 1.00000, Test Accuracy= 0.80000"
       ]
      },
      {
       "output_type": "stream",
       "stream": "stdout",
       "text": [
        "\n",
        "Batch 120, Minibatch Loss= 0.011193, Training Accuracy= 1.00000, Test Accuracy= 0.80000"
       ]
      },
      {
       "output_type": "stream",
       "stream": "stdout",
       "text": [
        "\n",
        "Batch 125, Minibatch Loss= 0.007285, Training Accuracy= 1.00000, Test Accuracy= 0.80000"
       ]
      },
      {
       "output_type": "stream",
       "stream": "stdout",
       "text": [
        "\n",
        "Batch 130, Minibatch Loss= 0.009787, Training Accuracy= 1.00000, Test Accuracy= 0.80000"
       ]
      },
      {
       "output_type": "stream",
       "stream": "stdout",
       "text": [
        "\n",
        "Batch 135, Minibatch Loss= 0.006632, Training Accuracy= 1.00000, Test Accuracy= 0.80000"
       ]
      },
      {
       "output_type": "stream",
       "stream": "stdout",
       "text": [
        "\n",
        "Batch 140, Minibatch Loss= 0.008578, Training Accuracy= 1.00000, Test Accuracy= 0.80000"
       ]
      },
      {
       "output_type": "stream",
       "stream": "stdout",
       "text": [
        "\n",
        "Batch 145, Minibatch Loss= 0.006076, Training Accuracy= 1.00000, Test Accuracy= 0.80000"
       ]
      },
      {
       "output_type": "stream",
       "stream": "stdout",
       "text": [
        "\n",
        "Batch 150, Minibatch Loss= 0.007538, Training Accuracy= 1.00000, Test Accuracy= 0.80000"
       ]
      },
      {
       "output_type": "stream",
       "stream": "stdout",
       "text": [
        "\n",
        "Batch 155, Minibatch Loss= 0.005596, Training Accuracy= 1.00000, Test Accuracy= 0.80000"
       ]
      },
      {
       "output_type": "stream",
       "stream": "stdout",
       "text": [
        "\n",
        "Batch 160, Minibatch Loss= 0.006645, Training Accuracy= 1.00000, Test Accuracy= 0.80000"
       ]
      },
      {
       "output_type": "stream",
       "stream": "stdout",
       "text": [
        "\n",
        "Batch 165, Minibatch Loss= 0.005178, Training Accuracy= 1.00000, Test Accuracy= 0.80000"
       ]
      },
      {
       "output_type": "stream",
       "stream": "stdout",
       "text": [
        "\n",
        "Batch 170, Minibatch Loss= 0.005880, Training Accuracy= 1.00000, Test Accuracy= 0.80000"
       ]
      },
      {
       "output_type": "stream",
       "stream": "stdout",
       "text": [
        "\n",
        "Batch 175, Minibatch Loss= 0.004811, Training Accuracy= 1.00000, Test Accuracy= 0.80000"
       ]
      },
      {
       "output_type": "stream",
       "stream": "stdout",
       "text": [
        "\n",
        "Batch 180, Minibatch Loss= 0.005225, Training Accuracy= 1.00000, Test Accuracy= 0.80000"
       ]
      },
      {
       "output_type": "stream",
       "stream": "stdout",
       "text": [
        "\n",
        "Batch 185, Minibatch Loss= 0.004486, Training Accuracy= 1.00000, Test Accuracy= 0.80000"
       ]
      },
      {
       "output_type": "stream",
       "stream": "stdout",
       "text": [
        "\n",
        "Batch 190, Minibatch Loss= 0.004663, Training Accuracy= 1.00000, Test Accuracy= 0.80000"
       ]
      },
      {
       "output_type": "stream",
       "stream": "stdout",
       "text": [
        "\n",
        "Batch 195, Minibatch Loss= 0.004197, Training Accuracy= 1.00000, Test Accuracy= 0.80000"
       ]
      },
      {
       "output_type": "stream",
       "stream": "stdout",
       "text": [
        "\n",
        "Final Test accuracy = 0.80000"
       ]
      },
      {
       "output_type": "stream",
       "stream": "stdout",
       "text": [
        "\n"
       ]
      }
     ],
     "prompt_number": 11
    }
   ],
   "metadata": {}
  }
 ]
}