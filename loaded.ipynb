{
 "cells": [
  {
   "cell_type": "code",
   "execution_count": 1,
   "metadata": {
    "collapsed": false
   },
   "outputs": [],
   "source": [
    "import numpy as np\n",
    "import tensorflow as tf\n",
    "from tensorflow.python.ops import rnn, rnn_cell\n",
    "\n",
    "from sklearn.model_selection import train_test_split\n",
    "from util import minibatcher, RNN"
   ]
  },
  {
   "cell_type": "markdown",
   "metadata": {},
   "source": [
    "## Indicate all of the training constants"
   ]
  },
  {
   "cell_type": "code",
   "execution_count": 4,
   "metadata": {
    "collapsed": false
   },
   "outputs": [],
   "source": [
    "model_type = 'motion_type'\n",
    "\n",
    "n_hidden = 100 # Size of the LSTM hidden layer\n",
    "batch_size = 8 # Number of data points in a batch\n",
    "learning_rate = 0.01 # Learning rate of the optimizer\n",
    "dropout_keep_prob = .8\n",
    "\n",
    "model_name = \"spy_model\"\n",
    "model_fake_data = \"hmm.npy\""
   ]
  },
  {
   "cell_type": "markdown",
   "metadata": {},
   "source": [
    "## Import the data, and split it into training and testing sets"
   ]
  },
  {
   "cell_type": "code",
   "execution_count": 5,
   "metadata": {
    "collapsed": false
   },
   "outputs": [],
   "source": [
    "clean_data = np.load(\"gmail/clean_data.npy\")\n",
    "data_labels = np.load(\"gmail/labels.npy\")\n",
    "fake_data = np.load(model_fake_data)\n",
    "\n",
    "if model_type == 'motion_type':\n",
    "    classes = [\"walking\", \"sitting\", \"table\", \"stairs\", \"car\"]\n",
    "    # Update the dataset to only be the labeled data (the ones that aren't 0)\n",
    "    labeled = data_labels != 0\n",
    "    input_motion_data = clean_data[labeled]\n",
    "    output_motion_data = data_labels[labeled] - 1 # Need to decrement by 1 since we removed all the 0s\n",
    "\n",
    "else:\n",
    "    classes = [\"robot\", \"human\"]\n",
    "    n_human = clean_data.shape[0]\n",
    "    n_robot = fake_data.shape[0]\n",
    "    input_motion_data = np.append(clean_data, fake_data, axis=0)\n",
    "    output_motion_data = np.append(np.ones(n_human), np.zeros(n_robot)).astype(int)\n",
    "    \n",
    "n_samples = input_motion_data.shape[0]\n",
    "n_steps = input_motion_data.shape[1]\n",
    "n_input = input_motion_data.shape[2]\n",
    "n_classes = np.max(output_motion_data) + 1"
   ]
  },
  {
   "cell_type": "code",
   "execution_count": 6,
   "metadata": {
    "collapsed": false
   },
   "outputs": [],
   "source": [
    "X_train = np.load(\"npy/X_train_\" + model_name + \".npy\")\n",
    "Y_train = np.load(\"npy/Y_train_\" + model_name + \".npy\")\n",
    "X_test = np.load(\"npy/X_test_\" + model_name + \".npy\")\n",
    "Y_test = np.load(\"npy/Y_test_\" + model_name + \".npy\")"
   ]
  },
  {
   "cell_type": "code",
   "execution_count": 7,
   "metadata": {
    "collapsed": false
   },
   "outputs": [
    {
     "data": {
      "text/plain": [
       "[('walking', 22), ('sitting', 22), ('table', 22), ('stairs', 22), ('car', 22)]"
      ]
     },
     "execution_count": 7,
     "metadata": {},
     "output_type": "execute_result"
    }
   ],
   "source": [
    "zip(classes, np.bincount(np.argmax(Y_train, axis=1)))"
   ]
  },
  {
   "cell_type": "markdown",
   "metadata": {},
   "source": [
    "## Define the placeholders and variables to be optimized"
   ]
  },
  {
   "cell_type": "code",
   "execution_count": 8,
   "metadata": {
    "collapsed": false
   },
   "outputs": [],
   "source": [
    "x = tf.placeholder(\"float\", [None, n_steps, n_input])\n",
    "y = tf.placeholder(\"float\", [None, n_classes])\n",
    "keep_prob = tf.placeholder(tf.float32)\n",
    "# Define weights\n",
    "weights = {\n",
    "    'hidden': tf.Variable(tf.random_normal([n_hidden, n_hidden])),\n",
    "    'out': tf.Variable(tf.random_normal([n_hidden, n_classes]))\n",
    "}\n",
    "biases = {\n",
    "    'hidden': tf.Variable(tf.random_normal([n_hidden])),\n",
    "    'out': tf.Variable(tf.random_normal([n_classes]))\n",
    "}"
   ]
  },
  {
   "cell_type": "markdown",
   "metadata": {},
   "source": [
    "## Define the various graphs: notably cost, optimizer, and accuracy"
   ]
  },
  {
   "cell_type": "code",
   "execution_count": 9,
   "metadata": {
    "collapsed": false
   },
   "outputs": [],
   "source": [
    "pred = RNN(x, weights, biases, n_input, n_steps, n_hidden, keep_prob)\n",
    "\n",
    "cost = tf.reduce_mean(tf.nn.softmax_cross_entropy_with_logits(pred, y))\n",
    "optimizer = tf.train.AdamOptimizer(learning_rate=learning_rate).minimize(cost)\n",
    "\n",
    "# Evaluate model\n",
    "correct_pred = tf.equal(tf.argmax(pred,1), tf.argmax(y,1))\n",
    "accuracy = tf.reduce_mean(tf.cast(correct_pred, tf.float32))"
   ]
  },
  {
   "cell_type": "markdown",
   "metadata": {},
   "source": [
    "## Load the trained model"
   ]
  },
  {
   "cell_type": "code",
   "execution_count": 10,
   "metadata": {
    "collapsed": false
   },
   "outputs": [],
   "source": [
    "# Add ops to save and restore all the variables.\n",
    "saver = tf.train.Saver()\n",
    "\n",
    "# Later, launch the model, use the saver to restore variables from disk, and\n",
    "# do some work with the model.\n",
    "sess = tf.Session()\n",
    "# Restore variables from disk.\n",
    "saver.restore(sess, \"ckpt/\" + model_name + \".ckpt\")"
   ]
  },
  {
   "cell_type": "code",
   "execution_count": 11,
   "metadata": {
    "collapsed": false
   },
   "outputs": [
    {
     "data": {
      "text/plain": [
       "0.73134327"
      ]
     },
     "execution_count": 11,
     "metadata": {},
     "output_type": "execute_result"
    }
   ],
   "source": [
    "sess.run(accuracy, feed_dict={x: X_test, y: Y_test, keep_prob: 1.0})"
   ]
  },
  {
   "cell_type": "markdown",
   "metadata": {},
   "source": [
    "## FP vs FN"
   ]
  },
  {
   "cell_type": "code",
   "execution_count": null,
   "metadata": {
    "collapsed": false
   },
   "outputs": [],
   "source": [
    "predictions = np.argmax(sess.run(pred, feed_dict={x: X_test, keep_prob: 1.0}), axis=1)\n",
    "actual = np.argmax(Y_test, axis=1)\n",
    "\n",
    "test_size = predictions.shape[0]\n",
    "fps = 0\n",
    "fns = 0\n",
    "tps = 0\n",
    "tns = 0\n",
    "Y = zip(predictions, actual)\n",
    "for y in Y:\n",
    "    if y[0] == 0:\n",
    "        if y[1] == 0:\n",
    "            tns += 1\n",
    "        else:\n",
    "            fns += 1\n",
    "    else:\n",
    "        if y[1] == 0:\n",
    "            fps += 1\n",
    "        else:\n",
    "            tps += 1\n",
    "\n",
    "print \"FP rate: %f\" % (fps / float(test_size) * 100)\n",
    "print \"FN rate: %f\" % (fns / float(test_size) * 100)"
   ]
  },
  {
   "cell_type": "markdown",
   "metadata": {},
   "source": [
    "## Try model on some new robot data"
   ]
  },
  {
   "cell_type": "code",
   "execution_count": null,
   "metadata": {
    "collapsed": false
   },
   "outputs": [],
   "source": [
    "robots = np.load('np/hmm.npy')\n",
    "\n",
    "human_count = sum(np.argmax(sess.run(pred, feed_dict={x: robots, keep_prob: 1.0}), axis=1))\n",
    "# All input samples are robots, so everything should be marked as class 0\n",
    "accuracy = 100 - (human_count / float(robots.shape[0]) * 100)\n",
    "print accuracy"
   ]
  },
  {
   "cell_type": "markdown",
   "metadata": {},
   "source": [
    "## Count which classes were confused "
   ]
  },
  {
   "cell_type": "code",
   "execution_count": 13,
   "metadata": {
    "collapsed": false
   },
   "outputs": [
    {
     "name": "stdout",
     "output_type": "stream",
     "text": [
      "('car', 'walking'): 8\n",
      "('stairs', 'walking'): 4\n",
      "('car', 'sitting'): 3\n",
      "('walking', 'stairs'): 1\n",
      "('walking', 'car'): 1\n",
      "('stairs', 'car'): 1\n"
     ]
    }
   ],
   "source": [
    "# Get indices of incorrect predictions in the test set\n",
    "test_predicted = np.argmax(sess.run(pred, feed_dict={x: X_test, keep_prob: 1.0}), axis=1)\n",
    "test_actual = np.argmax(Y_test, axis=1)\n",
    "wrong_predictions = test_predicted != test_actual\n",
    "\n",
    "mistakes = zip(test_predicted[wrong_predictions], test_actual[wrong_predictions])\n",
    "# Convert classs number to class names\n",
    "mistakes = map(lambda p: (classes[p[0]], classes[p[1]]), mistakes)\n",
    "\n",
    "from collections import Counter\n",
    "for m, n in Counter(mistakes).most_common():\n",
    "    print \"%s: %d\" % (str(m), n)\n"
   ]
  },
  {
   "cell_type": "markdown",
   "metadata": {},
   "source": [
    "## Classify the Unlabelled data"
   ]
  },
  {
   "cell_type": "code",
   "execution_count": 14,
   "metadata": {
    "collapsed": false
   },
   "outputs": [
    {
     "name": "stdout",
     "output_type": "stream",
     "text": [
      "walking: 43\n",
      "sitting: 86\n",
      "table: 19\n",
      "stairs: 6\n",
      "car: 59\n"
     ]
    }
   ],
   "source": [
    "unlabeled = data_labels == 0\n",
    "input_motion_data = clean_data[unlabeled]\n",
    "\n",
    "Y = np.argmax(sess.run(pred, feed_dict={x: input_motion_data, keep_prob: 1.0}), axis=1)\n",
    "class_count = zip(classes, np.bincount(Y))\n",
    "\n",
    "for c in class_count:\n",
    "    print \"%s: %d\" % (c[0], c[1])\n"
   ]
  },
  {
   "cell_type": "code",
   "execution_count": null,
   "metadata": {
    "collapsed": false
   },
   "outputs": [],
   "source": [
    "def hash_sequence(time_steps, num_bins=500):\n",
    "\n",
    "    min_possible = np.array([ -15,   -15,  -50, -400, -400, -250])\n",
    "    max_possible = np.array([20, 30, 5, 400, 500, 300])\n",
    "    bin_sizes = (max_possible-min_possible)/np.float(num_bins)\n",
    "    summed = np.mean(time_steps, axis=0)\n",
    "    # Keep everything within the above bounds\n",
    "    for i, v in enumerate(summed):\n",
    "        if v < min_possible[i]:\n",
    "            summed[i] = min_possible[i]\n",
    "        elif v > max_possible[i]:\n",
    "            summed[i] = max_possible[i]\n",
    "    # determine the bins\n",
    "    binned = np.round((summed - min_possible)/bin_sizes)\n",
    "    x = str(binned)\n",
    "    return hash(x)\n",
    "\n",
    "hashes = []\n",
    "fn = 0\n",
    "hash_hits = 0\n",
    "\n",
    "for d in clean_data:\n",
    "    h = hash_sequence(d)\n",
    "    if h in hashes:\n",
    "        hash_hits += 1\n",
    "    else:\n",
    "        d = np.array([d])\n",
    "        klass = np.argmax(sess.run(pred, feed_dict={x: d, keep_prob: 1.0}))\n",
    "        if klass == 0:\n",
    "            fn += 1\n",
    "        hashes.append(h)\n",
    "            \n",
    "print fn, hash_hits"
   ]
  },
  {
   "cell_type": "code",
   "execution_count": null,
   "metadata": {
    "collapsed": false
   },
   "outputs": [],
   "source": [
    "new_hashes = list(hashes)\n",
    "\n",
    "robots = np.load('more_hmm.npy')\n",
    "print robots.shape\n",
    "hash_hits = 0\n",
    "hash_hit_class_miss = 0\n",
    "fps = 0\n",
    "tns = 0\n",
    "for d in robots:\n",
    "    h = hash_sequence(d)\n",
    "    d = np.array([d])\n",
    "    if h in new_hashes:\n",
    "        hash_hits += 1\n",
    "        if (np.argmax(sess.run(pred, feed_dict={x: d, keep_prob: 1.0}))) == 1:\n",
    "            hash_hit_class_miss += 1\n",
    "    else:\n",
    "        klass = np.argmax(sess.run(pred, feed_dict={x: d, keep_prob: 1.0}))\n",
    "        if klass == 0:\n",
    "            tns += 1\n",
    "            pass\n",
    "        else:\n",
    "            fps += 1\n",
    "        new_hashes.append(h) \n",
    "                \n",
    "print hash_hits, hash_hit_class_miss, fps, tns"
   ]
  }
 ],
 "metadata": {
  "kernelspec": {
   "display_name": "Python 2",
   "language": "python",
   "name": "python2"
  },
  "language_info": {
   "codemirror_mode": {
    "name": "ipython",
    "version": 2
   },
   "file_extension": ".py",
   "mimetype": "text/x-python",
   "name": "python",
   "nbconvert_exporter": "python",
   "pygments_lexer": "ipython2",
   "version": "2.7.10"
  }
 },
 "nbformat": 4,
 "nbformat_minor": 0
}
