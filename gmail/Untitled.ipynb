{
 "cells": [
  {
   "cell_type": "code",
   "execution_count": 7,
   "metadata": {
    "collapsed": false
   },
   "outputs": [],
   "source": [
    "import numpy as np\n",
    "import re"
   ]
  },
  {
   "cell_type": "code",
   "execution_count": 4,
   "metadata": {
    "collapsed": false
   },
   "outputs": [],
   "source": [
    "data = np.load('data.npy')"
   ]
  },
  {
   "cell_type": "code",
   "execution_count": 66,
   "metadata": {
    "collapsed": false
   },
   "outputs": [],
   "source": [
    "classes = [\"walking\", \"sitting\", \"table\", \"stairs\", \"car\"]\n",
    "\n",
    "# returns -1 if the message is invalid, 0 if it's a valid unlabed sample, otherwise the index + 1 of the class\n",
    "def classify(message):\n",
    "    subject, body = message\n",
    "    if len(body) < 10000 or \"9999999999\" in body:\n",
    "        return -1\n",
    "    \n",
    "    for i, klass in enumerate(classes):\n",
    "        if klass in subject.lower():\n",
    "            return i + 1\n",
    "\n",
    "    return 0\n",
    "        \n",
    "def get_data(line):\n",
    "    m = re.match(\"x: (.*), y: (.*), z: (.*), alpha: (.*), beta: (.*), gamma: (.*)\", line)\n",
    "    strings = [m.group(1), m.group(2), m.group(3), m.group(4), m.group(5), m.group(6)]\n",
    "    for string in strings:\n",
    "        if string == \"None\":\n",
    "            return []\n",
    "        \n",
    "    return map(float, strings)"
   ]
  },
  {
   "cell_type": "code",
   "execution_count": null,
   "metadata": {
    "collapsed": false,
    "scrolled": true
   },
   "outputs": [],
   "source": [
    "# clean_data = [[] for i in range(len(classes) + 1)]\n",
    "clean_data, labels = [], []\n",
    "for message in data:\n",
    "    klass = classify(message)\n",
    "    if klass != -1:\n",
    "        body = message[1]\n",
    "        clean_entry = []\n",
    "        for line in body.splitlines():\n",
    "            clean_line = get_data(line)\n",
    "            if clean_line:\n",
    "                clean_entry.append(clean_line)\n",
    "            \n",
    "        if len(clean_entry) >= 260:\n",
    "            clean_data.append(clean_entry[:260])\n",
    "            labels.append(klass)"
   ]
  },
  {
   "cell_type": "code",
   "execution_count": 58,
   "metadata": {
    "collapsed": false
   },
   "outputs": [],
   "source": [
    "np.save('clean_data.npy', clean_data)\n",
    "np.save('labels.npy', labels)"
   ]
  },
  {
   "cell_type": "code",
   "execution_count": 81,
   "metadata": {
    "collapsed": false
   },
   "outputs": [
    {
     "data": {
      "text/plain": [
       "264"
      ]
     },
     "execution_count": 81,
     "metadata": {},
     "output_type": "execute_result"
    }
   ],
   "source": [
    "len(clean_data)"
   ]
  },
  {
   "cell_type": "code",
   "execution_count": 54,
   "metadata": {
    "collapsed": false
   },
   "outputs": [
    {
     "data": {
      "text/plain": [
       "0.650025750732"
      ]
     },
     "execution_count": 54,
     "metadata": {},
     "output_type": "execute_result"
    }
   ],
   "source": [
    "clean_data[1][1][1][0]"
   ]
  },
  {
   "cell_type": "code",
   "execution_count": null,
   "metadata": {
    "collapsed": true
   },
   "outputs": [],
   "source": []
  }
 ],
 "metadata": {
  "kernelspec": {
   "display_name": "Python 2",
   "language": "python",
   "name": "python2"
  },
  "language_info": {
   "codemirror_mode": {
    "name": "ipython",
    "version": 2
   },
   "file_extension": ".py",
   "mimetype": "text/x-python",
   "name": "python",
   "nbconvert_exporter": "python",
   "pygments_lexer": "ipython2",
   "version": "2.7.11"
  }
 },
 "nbformat": 4,
 "nbformat_minor": 0
}
